{
  "cells": [
    {
      "cell_type": "markdown",
      "metadata": {
        "id": "view-in-github",
        "colab_type": "text"
      },
      "source": [
        "<a href=\"https://colab.research.google.com/github/nastyakurzanova/Asynch_BMSTU/blob/main/Copy_of_Lab4.ipynb\" target=\"_parent\"><img src=\"https://colab.research.google.com/assets/colab-badge.svg\" alt=\"Open In Colab\"/></a>"
      ]
    },
    {
      "cell_type": "markdown",
      "source": [
        "<a href=\"https://colab.research.google.com/github/iu5git/MPPR/blob/main/notebooks/Lab4.ipynb\" target=\"_parent\"><img src=\"https://colab.research.google.com/assets/colab-badge.svg\" alt=\"Open In Colab\"/></a>"
      ],
      "metadata": {
        "collapsed": false,
        "id": "J_Jrqqm5IOPx"
      }
    },
    {
      "cell_type": "markdown",
      "source": [
        "# Лабораторная работа №4\n",
        "## Решение оптимизационных задач с помощью генетических алгоритмов\n"
      ],
      "metadata": {
        "id": "HsvLg8M8ebUX"
      }
    },
    {
      "cell_type": "markdown",
      "metadata": {
        "id": "VrOocc6D_O7M"
      },
      "source": [
        "# Задание\n",
        "\n",
        "Лабораторная работа состоит из двух частей:\n",
        "\n",
        "I. Использование генетического алгоритма для оптимизации раскладки клавиатуру для заданных слов;\n",
        "\n",
        "II. Использование генетических алгоритмов для обучения интеллектуальных агентов.\n",
        "\n",
        "Для выполнениче части I. требуется проделать следующие шаги:\n",
        "1. Загрузить необходимые файлы (вариант со списком слов, макет клавиатуры и набор шрифтов).\n",
        "2. Загрузить файл клавиатуры и шрифта в GoogleColab\n",
        "3. Выбрать 3 слова согласно варианту и для каждого найти оптимальные раскладки клавиатуры, и визуализировать их с помощью макета и набора шрифтов. Если в слове присутствует **дефис**, то либо заменить на пробел, либо писать слитно.\n",
        "\n",
        "\n",
        "Для выполнение части II. требуется выполнить следующие шаги:\n",
        "1. Выбрать одну из предложенных игр с реализацией на JavaScript.\n",
        "2. Обучить интеллектуального агента с помощью генетического алгоритма в среде без графического интерфейса на Python. В случае необходимости модифицировать код для получения лучших результатов.\n",
        "3. Проверить качество агента в первоначальной среде на JavaScript.\n",
        "\n",
        "Критерием выполнения II. части лабораторной работы является продолжительность жизни интеллектуального агента по результатам 3 партий. Среднее значение должно равняться не менее 30 секунд. **При этом агент НЕ должен бездействовать**.\n",
        "\n",
        "Лабораторные выполняются на платформе Google Colab - просто перейдите по ссылке в начале ноутбука. Также можно работать с ноутбуками лабораторных локально.\n",
        "\n",
        "Отчет должен содержать: титульный лист, задание с вариантом, скриншоты и краткие пояснения по каждому этапу лабораторной работы."
      ]
    },
    {
      "cell_type": "markdown",
      "source": [
        "#Варианты для Задания\n",
        "Варианты и материалы для выполнения лабораторной работы доступны по [ссылке ЯндексДиск](https://disk.yandex.ru/d/0iuecfh0amQGmA)\n",
        "\n",
        "Пример варианта для студента ИУ5-72Б, 4ый по списку в группе:\n",
        "\n",
        "Часть 1. Слова для оптимизации: сложное слово \"разглагольствовать\", нормальное слово \"видеоконференция\", лёгкое слово \"бакалавриат\"\n",
        "\n",
        "Часть 2 (для всех одинаково). Уровень сложности **Easy** - *Snake*, уровень сложности **Medium** - *PingPong*, уровень сложности **Hard** - *DoodleJump*\n"
      ],
      "metadata": {
        "id": "fpq20OpJhje4"
      }
    },
    {
      "cell_type": "markdown",
      "source": [
        "#Контрольные вопросы\n",
        "1. Что такое генетический алгоритм\n",
        "Создается начальная популяция случайных решений 2.\n",
        "Лучшие решения («родители») выбираются на основе их приспособленности 2.\n",
        "Родители «собираются» (скрещиваются) для создания новых решений («детей») 1.\n",
        "В детях могут происходить небольшие изменения (мутации) 2.\n",
        "Процесс повторяется до тех пор, пока не будет найдено желаемое решение или не истечёт время 2.\n",
        "Ключевые моменты\n",
        "Алгоритм работает путем постепенного улучшения решений через поколения 1.\n",
        "Он эффективен для поиска глобальных оптимумов в сложных пространствах решений 2\n",
        "2. К какому алгоритмическому семейству относится\n",
        "3. Этапы генетического алгоритма\n",
        "4. Что такое функция приспособленности\n",
        "Основная роль функции приспособленности:\n",
        "\n",
        "Оценить каждый элемент популяции\n",
        "Выделить лучшие решения для дальнейшей обработки\n",
        "Указать направление эволюционного процесса\n",
        "5. Что такое популяция\n",
        "Популяция — это группа решений, которые используются в процессе генетического алгоритма.\n",
        "\n",
        "Это набор потенциальных решений задачи.\n",
        "Каждый элемент популяции называется индивидуумом.\n",
        "Популяция представляет собой текущее состояние поиска оптимального решения.\n",
        "6. Что такое поколение\n",
        "Поколение — это этап в процессе генетического алгоритма, когда происходит обновление популяции\n",
        "\n",
        "Каждое поколение содержит новую популяцию решений.\n",
        "Проходит процесс селекции, скрещивания и мутации.\n",
        "Цель - получить более качественную популяцию для следующего поколения.\n",
        "7. Что такое хромосома\n",
        "Хромосома — это вариант решения задачи, представленный в виде строки символов или чисел\n",
        "\n",
        "Обычно представляет собой двоичную строку (например, «10101010») .\n",
        "Может использоваться для представления решения в различных типах задач.\n",
        "Играет роль \"генотипа\" решения\n",
        "8. Что такое ген\n",
        "Ген — это единица информации, которая кодирует определённую характеристику или признак индивида.\n",
        "\n",
        "В генетическом алгоритме «ген» часто используется как синоним «бита» в бинарной хромосоме.\n",
        "Например, в хромосоме «10101010» каждый символ можно рассматривать как «ген».\n",
        "Гены вместе образуют хромосому, которая представляет полное решение.\n",
        "9. Объясните этап _ генетического алгоритма\n",
        "-Инициализация\n",
        "Создается начальная популяция решений.\n",
        "Количество элементов в популяции обычно задается пользователем.\n",
        "Решения могут быть созданы случайным образом или с использованием дополнительных правил.\n",
        "-Оценка приспособленности\n",
        "Для каждой хромосомы в популяции рассчитывается функция приспособленности.\n",
        "Эта функция определяет, насколько хорошо каждое решение удовлетворяет заданным условиям.\n",
        "-Селекция\n",
        "Из популяции выбираются лучшие хромосомы.\n",
        "Часто используется правило «выживает сильнейший» — только наиболее приспособленные особи продолжают существовать.\n",
        "Методы селекции могут различаться, например, ротационная селекция или турнирная селекция.\n",
        "-Скрещивание\n",
        "Выбранные родительские хромосомы «собираются» (скрещиваются) для создания дочерних хромосом.\n",
        "Методы скрещивания зависят от типа представления решений.\n",
        "Часто используется операция перекрестия или рекомбинации.\n",
        "-Мутация\n",
        "В дочерних хромосомах могут происходить небольшие случайные изменения.\n",
        "Мутации увеличивают генетическое разнообразие популяции.\n",
        "Методы мутации могут включать замену случайных бит или добавление удаление элементов.\n",
        "-Замена\n",
        "Новые хромосомы заменяют менее приспособленные в популяции.\n",
        "Это обеспечивает прогресс в эволюционном процессе.\n",
        "Часто применяется стратегия «замены» или «элитизма».\n",
        "-Повторение\n",
        "Шаги 2-6 повторяются до достижения целевого решения или истечения времени.\n",
        "Каждое новое поколение должно быть лучше предыдущего.\n",
        "10. Что такое элитизм\n",
        "Элитизм — это стратегия в генетических алгоритмах, которая гарантирует сохранение лучших решений между поколениями\n",
        "11. Что такое рулеточный отбор\n",
        "Рулетка — это метод селекции в генетических алгоритмах, основанный на принципе равномерного распределения вероятностей.\n",
        "\n",
        "Каждая хромосома имеет шанс быть выбранной пропорционально своей приспособленности.\n",
        "Используется случайное число, которое сравнивается с накопленными вероятностями выбора.\n",
        "12. Что такое глобальный экстремум функции\n",
        "Глобальный экстремум функции — это точка, в которой функция достигает своего абсолютного минимума или максимума во всём пространстве определения\n",
        "13. Гарантирует ли ГА нахождения глобального экстремума\n",
        "Генетические алгоритмы не гарантируют нахождения глобального экстремума функции\n",
        "ГА может застрять в локальных оптимумах\n",
        "14. Что лучше: 10 раз оптимизировать с нуля ГА в течение 100 поколений или 1 раз оптимизировать с нуля ГА в течение 1000 поколений\n",
        "Если у вас есть ограничение по времени и вы хотите получить хотя бы приблизительное решение, вариант 1 может быть предпочтительнее.\n",
        "Если у вас есть возможность выделить больше времени и вы стремитесь найти наиболее точное решение, вариант 2 будет более эффективным\n",
        "15. Требуется ли для использования ГА дифференцируемость функции приспособленности\n",
        "Генетический алгоритм не требует дифференцируемости функции приспособленности. Его способность работать с различными типами функций делает его универсальным инструментом для оптимизации в широком спектре задач, особенно тех, которые трудно решить с помощью традиционных методов оптимизации\n",
        "16. Когда использование ГА предпочтительнее стохастического градиентного спуска\n",
        "Генетический алгоритм предпочтительнее стохастического градиентного спуска в случаях, когда требуется:\n",
        "\n",
        "Работа с сложными пространствами решений\n",
        "Сохранение разнообразия в поиске\n",
        "Многоканальный оптимизация\n",
        "Необходимость кратковременного ответа\n",
        "Адаптивность к неизвестным параметрам задачи\n",
        "Однако выбор между ГА и SGD также зависит от конкретных требований задачи, доступных ресурсов и предпочтений разработчика. В некоторых случаях для достижения оптимального результата может быть эффективно комбинировать оба подхода\n",
        "17. Какие задачи можно решать при помощи ГА\n",
        "Оптимизация маршрутов в логистике и транспортной системе\n",
        "Оптимизация портфеля инвестиций"
      ],
      "metadata": {
        "id": "UNO1xJtZdf37"
      }
    },
    {
      "cell_type": "markdown",
      "source": [
        "#Материалы по теме\n",
        "1. [Статья, RU | Просто о сложном про ГА](https://habr.com/ru/post/128704)\n",
        "2. [Видео, ENG | Поиск кратчайшего пути с помощью ГА](https://www.youtube.com/watch?v=X1VuqBYCGK4)\n",
        "3. Анимация | Нахождение экстремума\n",
        "\n",
        "![](https://engineering.purdue.edu/gekcogrp/methodology/GENES/genes_img/2sinc_opt_title.gif)\n",
        "4. [Видео, ENG | Применение ГА для преодоления препятствий](https://www.youtube.com/watch?v=Gl3EjiVlz_4)\n",
        "5. [Видео, ENG | Применение ГА для дуэльной игры](https://www.youtube.com/watch?v=u2t77mQmJiY)\n",
        "6. [Видео, ENG | Применение ГА для проектирования американских горок](https://www.youtube.com/watch?v=4l5MGqrAItU)\n",
        "7. [Статья, ENG | Применение генетических алгоритмов ](https://pablormier.github.io/2017/09/05/a-tutorial-on-differential-evolution-with-python/)\n",
        "\n",
        "![Анимация | Нахождение параметров полинома](https://pablormier.github.io/assets/img/de/curve-fitting.gif)\n",
        "8. [Статья, ENG | Теория генетических алгоритмов ](http://www.feat.engineering/genetic-algorithms.html)\n",
        "9. [Демо | Обучение ходьбе](https://rossning92.github.io/genetic-algorithm)\n",
        "\n",
        "![](https://raw.githubusercontent.com/rossning92/genetic-algorithm/master/images/demo.gif)\n",
        "10. [Видео | Игра в FlappyBird](https://www.youtube.com/watch?v=aeWmdojEJf0)\n",
        "\n",
        "![](https://raw.githubusercontent.com/ssusnic/Machine-Learning-Flappy-Bird/master/screenshots/flappy_06.png)\n",
        "11. [Демо | Прохождение лабиринта](https://gazijarin.github.io/AdamAI)\n",
        "12. [Видео, ENG | Оптимизация раскладки клавиатуры ](https://www.youtube.com/watch?v=EOaPb9wrgDY)\n",
        "13. [Видео, ENG | Генетический алгоритм для обучения змейки ](https://www.youtube.com/watch?v=tjQIO1rqTBE)\n",
        "\n",
        "\n"
      ],
      "metadata": {
        "id": "9VDTRR0aFeTa"
      }
    },
    {
      "cell_type": "markdown",
      "source": [
        "# Часть 1"
      ],
      "metadata": {
        "id": "vGvmeQ1nPxan"
      }
    },
    {
      "cell_type": "markdown",
      "metadata": {
        "id": "fzjC1ECbdj-Z"
      },
      "source": [
        "## Импортирование необходимых библиотек"
      ]
    },
    {
      "cell_type": "code",
      "execution_count": null,
      "metadata": {
        "id": "3O2PElov-nod"
      },
      "outputs": [],
      "source": [
        "import json\n",
        "import os\n",
        "import numpy as np\n",
        "import pandas as pd\n",
        "from PIL import Image, ImageDraw, ImageFont"
      ]
    },
    {
      "cell_type": "markdown",
      "metadata": {
        "id": "OF4X4J8_YlLo"
      },
      "source": [
        "## Инициализация слов для оптимизации"
      ]
    },
    {
      "cell_type": "code",
      "source": [
        "# ЗДЕСЬ ВПИСЫВАЕТЕ СЛОВА ПО ВАРИАНТУ\n",
        "messages = [np.random.choice(['автоковариационный', 'синтетические', 'инициирование'], size=1000)]\n",
        "\n",
        "# тут необходимая подготовка, чтобы быстро считать функцию приспособленности\n",
        "df = pd.DataFrame(dict(msg=np.concatenate(messages)))\n",
        "df.msg = df.msg.str.lower()\n",
        "df.msg = df.msg.str.replace('ё', 'е').str.replace(u'\\xa0', u' ').str.replace(u'\\-', u' ')\n",
        "df.msg = df.msg.str.replace('[^a-zа-я0-9\\s?,.!]', '')\n",
        "\n",
        "sequence = list(''.join(df[~df.msg.isna()].msg.values))\n",
        "charmap = np.unique(sequence)\n",
        "\n",
        "diffs_mask = df[~df.msg.isna()].msg.str.len().cumsum().values.copy()[:-1] - 1\n",
        "diffs_boolean_mask = np.ones(len(sequence)-1, dtype=np.bool8)\n",
        "diffs_boolean_mask[diffs_mask] = 0\n",
        "sequence = list(''.join(df[~df.msg.isna()].msg.values))\n",
        "bisequence = (pd.Series(sequence[:-1])+pd.Series(sequence[1:]))\n",
        "BISEQUENCE_FREQS = bisequence.loc[diffs_boolean_mask].value_counts().reset_index()\n",
        "BISEQUENCE_FREQS.columns = ['biseq', 'freq']\n",
        "BISEQUENCE_FREQS"
      ],
      "metadata": {
        "colab": {
          "base_uri": "https://localhost:8080/",
          "height": 1000
        },
        "id": "3rYIvTBERWVX",
        "outputId": "16e490ef-6c49-4f7f-f3de-c4e2dd23caad"
      },
      "execution_count": null,
      "outputs": [
        {
          "output_type": "stream",
          "name": "stderr",
          "text": [
            "<ipython-input-2-c05a6c1193c9>:14: DeprecationWarning: `np.bool8` is a deprecated alias for `np.bool_`.  (Deprecated NumPy 1.24)\n",
            "  diffs_boolean_mask = np.ones(len(sequence)-1, dtype=np.bool8)\n"
          ]
        },
        {
          "output_type": "execute_result",
          "data": {
            "text/plain": [
              "   biseq  freq\n",
              "0     ин   680\n",
              "1     ие   680\n",
              "2     ни   676\n",
              "3     ов   658\n",
              "4     ва   658\n",
              "5     ци   658\n",
              "6     си   342\n",
              "7     ес   342\n",
              "8     ет   342\n",
              "9     ти   342\n",
              "10    ич   342\n",
              "11    че   342\n",
              "12    ки   342\n",
              "13    ск   342\n",
              "14    те   342\n",
              "15    нт   342\n",
              "16    иц   338\n",
              "17    ии   338\n",
              "18    ир   338\n",
              "19    ро   338\n",
              "20    ан   338\n",
              "21    вт   320\n",
              "22    ый   320\n",
              "23    ны   320\n",
              "24    нн   320\n",
              "25    он   320\n",
              "26    ио   320\n",
              "27    ац   320\n",
              "28    иа   320\n",
              "29    ри   320\n",
              "30    ар   320\n",
              "31    ко   320\n",
              "32    ок   320\n",
              "33    то   320\n",
              "34    ав   320"
            ],
            "text/html": [
              "\n",
              "  <div id=\"df-10450839-d238-479a-bab7-766844415924\" class=\"colab-df-container\">\n",
              "    <div>\n",
              "<style scoped>\n",
              "    .dataframe tbody tr th:only-of-type {\n",
              "        vertical-align: middle;\n",
              "    }\n",
              "\n",
              "    .dataframe tbody tr th {\n",
              "        vertical-align: top;\n",
              "    }\n",
              "\n",
              "    .dataframe thead th {\n",
              "        text-align: right;\n",
              "    }\n",
              "</style>\n",
              "<table border=\"1\" class=\"dataframe\">\n",
              "  <thead>\n",
              "    <tr style=\"text-align: right;\">\n",
              "      <th></th>\n",
              "      <th>biseq</th>\n",
              "      <th>freq</th>\n",
              "    </tr>\n",
              "  </thead>\n",
              "  <tbody>\n",
              "    <tr>\n",
              "      <th>0</th>\n",
              "      <td>ин</td>\n",
              "      <td>680</td>\n",
              "    </tr>\n",
              "    <tr>\n",
              "      <th>1</th>\n",
              "      <td>ие</td>\n",
              "      <td>680</td>\n",
              "    </tr>\n",
              "    <tr>\n",
              "      <th>2</th>\n",
              "      <td>ни</td>\n",
              "      <td>676</td>\n",
              "    </tr>\n",
              "    <tr>\n",
              "      <th>3</th>\n",
              "      <td>ов</td>\n",
              "      <td>658</td>\n",
              "    </tr>\n",
              "    <tr>\n",
              "      <th>4</th>\n",
              "      <td>ва</td>\n",
              "      <td>658</td>\n",
              "    </tr>\n",
              "    <tr>\n",
              "      <th>5</th>\n",
              "      <td>ци</td>\n",
              "      <td>658</td>\n",
              "    </tr>\n",
              "    <tr>\n",
              "      <th>6</th>\n",
              "      <td>си</td>\n",
              "      <td>342</td>\n",
              "    </tr>\n",
              "    <tr>\n",
              "      <th>7</th>\n",
              "      <td>ес</td>\n",
              "      <td>342</td>\n",
              "    </tr>\n",
              "    <tr>\n",
              "      <th>8</th>\n",
              "      <td>ет</td>\n",
              "      <td>342</td>\n",
              "    </tr>\n",
              "    <tr>\n",
              "      <th>9</th>\n",
              "      <td>ти</td>\n",
              "      <td>342</td>\n",
              "    </tr>\n",
              "    <tr>\n",
              "      <th>10</th>\n",
              "      <td>ич</td>\n",
              "      <td>342</td>\n",
              "    </tr>\n",
              "    <tr>\n",
              "      <th>11</th>\n",
              "      <td>че</td>\n",
              "      <td>342</td>\n",
              "    </tr>\n",
              "    <tr>\n",
              "      <th>12</th>\n",
              "      <td>ки</td>\n",
              "      <td>342</td>\n",
              "    </tr>\n",
              "    <tr>\n",
              "      <th>13</th>\n",
              "      <td>ск</td>\n",
              "      <td>342</td>\n",
              "    </tr>\n",
              "    <tr>\n",
              "      <th>14</th>\n",
              "      <td>те</td>\n",
              "      <td>342</td>\n",
              "    </tr>\n",
              "    <tr>\n",
              "      <th>15</th>\n",
              "      <td>нт</td>\n",
              "      <td>342</td>\n",
              "    </tr>\n",
              "    <tr>\n",
              "      <th>16</th>\n",
              "      <td>иц</td>\n",
              "      <td>338</td>\n",
              "    </tr>\n",
              "    <tr>\n",
              "      <th>17</th>\n",
              "      <td>ии</td>\n",
              "      <td>338</td>\n",
              "    </tr>\n",
              "    <tr>\n",
              "      <th>18</th>\n",
              "      <td>ир</td>\n",
              "      <td>338</td>\n",
              "    </tr>\n",
              "    <tr>\n",
              "      <th>19</th>\n",
              "      <td>ро</td>\n",
              "      <td>338</td>\n",
              "    </tr>\n",
              "    <tr>\n",
              "      <th>20</th>\n",
              "      <td>ан</td>\n",
              "      <td>338</td>\n",
              "    </tr>\n",
              "    <tr>\n",
              "      <th>21</th>\n",
              "      <td>вт</td>\n",
              "      <td>320</td>\n",
              "    </tr>\n",
              "    <tr>\n",
              "      <th>22</th>\n",
              "      <td>ый</td>\n",
              "      <td>320</td>\n",
              "    </tr>\n",
              "    <tr>\n",
              "      <th>23</th>\n",
              "      <td>ны</td>\n",
              "      <td>320</td>\n",
              "    </tr>\n",
              "    <tr>\n",
              "      <th>24</th>\n",
              "      <td>нн</td>\n",
              "      <td>320</td>\n",
              "    </tr>\n",
              "    <tr>\n",
              "      <th>25</th>\n",
              "      <td>он</td>\n",
              "      <td>320</td>\n",
              "    </tr>\n",
              "    <tr>\n",
              "      <th>26</th>\n",
              "      <td>ио</td>\n",
              "      <td>320</td>\n",
              "    </tr>\n",
              "    <tr>\n",
              "      <th>27</th>\n",
              "      <td>ац</td>\n",
              "      <td>320</td>\n",
              "    </tr>\n",
              "    <tr>\n",
              "      <th>28</th>\n",
              "      <td>иа</td>\n",
              "      <td>320</td>\n",
              "    </tr>\n",
              "    <tr>\n",
              "      <th>29</th>\n",
              "      <td>ри</td>\n",
              "      <td>320</td>\n",
              "    </tr>\n",
              "    <tr>\n",
              "      <th>30</th>\n",
              "      <td>ар</td>\n",
              "      <td>320</td>\n",
              "    </tr>\n",
              "    <tr>\n",
              "      <th>31</th>\n",
              "      <td>ко</td>\n",
              "      <td>320</td>\n",
              "    </tr>\n",
              "    <tr>\n",
              "      <th>32</th>\n",
              "      <td>ок</td>\n",
              "      <td>320</td>\n",
              "    </tr>\n",
              "    <tr>\n",
              "      <th>33</th>\n",
              "      <td>то</td>\n",
              "      <td>320</td>\n",
              "    </tr>\n",
              "    <tr>\n",
              "      <th>34</th>\n",
              "      <td>ав</td>\n",
              "      <td>320</td>\n",
              "    </tr>\n",
              "  </tbody>\n",
              "</table>\n",
              "</div>\n",
              "    <div class=\"colab-df-buttons\">\n",
              "\n",
              "  <div class=\"colab-df-container\">\n",
              "    <button class=\"colab-df-convert\" onclick=\"convertToInteractive('df-10450839-d238-479a-bab7-766844415924')\"\n",
              "            title=\"Convert this dataframe to an interactive table.\"\n",
              "            style=\"display:none;\">\n",
              "\n",
              "  <svg xmlns=\"http://www.w3.org/2000/svg\" height=\"24px\" viewBox=\"0 -960 960 960\">\n",
              "    <path d=\"M120-120v-720h720v720H120Zm60-500h600v-160H180v160Zm220 220h160v-160H400v160Zm0 220h160v-160H400v160ZM180-400h160v-160H180v160Zm440 0h160v-160H620v160ZM180-180h160v-160H180v160Zm440 0h160v-160H620v160Z\"/>\n",
              "  </svg>\n",
              "    </button>\n",
              "\n",
              "  <style>\n",
              "    .colab-df-container {\n",
              "      display:flex;\n",
              "      gap: 12px;\n",
              "    }\n",
              "\n",
              "    .colab-df-convert {\n",
              "      background-color: #E8F0FE;\n",
              "      border: none;\n",
              "      border-radius: 50%;\n",
              "      cursor: pointer;\n",
              "      display: none;\n",
              "      fill: #1967D2;\n",
              "      height: 32px;\n",
              "      padding: 0 0 0 0;\n",
              "      width: 32px;\n",
              "    }\n",
              "\n",
              "    .colab-df-convert:hover {\n",
              "      background-color: #E2EBFA;\n",
              "      box-shadow: 0px 1px 2px rgba(60, 64, 67, 0.3), 0px 1px 3px 1px rgba(60, 64, 67, 0.15);\n",
              "      fill: #174EA6;\n",
              "    }\n",
              "\n",
              "    .colab-df-buttons div {\n",
              "      margin-bottom: 4px;\n",
              "    }\n",
              "\n",
              "    [theme=dark] .colab-df-convert {\n",
              "      background-color: #3B4455;\n",
              "      fill: #D2E3FC;\n",
              "    }\n",
              "\n",
              "    [theme=dark] .colab-df-convert:hover {\n",
              "      background-color: #434B5C;\n",
              "      box-shadow: 0px 1px 3px 1px rgba(0, 0, 0, 0.15);\n",
              "      filter: drop-shadow(0px 1px 2px rgba(0, 0, 0, 0.3));\n",
              "      fill: #FFFFFF;\n",
              "    }\n",
              "  </style>\n",
              "\n",
              "    <script>\n",
              "      const buttonEl =\n",
              "        document.querySelector('#df-10450839-d238-479a-bab7-766844415924 button.colab-df-convert');\n",
              "      buttonEl.style.display =\n",
              "        google.colab.kernel.accessAllowed ? 'block' : 'none';\n",
              "\n",
              "      async function convertToInteractive(key) {\n",
              "        const element = document.querySelector('#df-10450839-d238-479a-bab7-766844415924');\n",
              "        const dataTable =\n",
              "          await google.colab.kernel.invokeFunction('convertToInteractive',\n",
              "                                                    [key], {});\n",
              "        if (!dataTable) return;\n",
              "\n",
              "        const docLinkHtml = 'Like what you see? Visit the ' +\n",
              "          '<a target=\"_blank\" href=https://colab.research.google.com/notebooks/data_table.ipynb>data table notebook</a>'\n",
              "          + ' to learn more about interactive tables.';\n",
              "        element.innerHTML = '';\n",
              "        dataTable['output_type'] = 'display_data';\n",
              "        await google.colab.output.renderOutput(dataTable, element);\n",
              "        const docLink = document.createElement('div');\n",
              "        docLink.innerHTML = docLinkHtml;\n",
              "        element.appendChild(docLink);\n",
              "      }\n",
              "    </script>\n",
              "  </div>\n",
              "\n",
              "\n",
              "<div id=\"df-2aea479c-ced3-4d54-b02d-571347badec9\">\n",
              "  <button class=\"colab-df-quickchart\" onclick=\"quickchart('df-2aea479c-ced3-4d54-b02d-571347badec9')\"\n",
              "            title=\"Suggest charts\"\n",
              "            style=\"display:none;\">\n",
              "\n",
              "<svg xmlns=\"http://www.w3.org/2000/svg\" height=\"24px\"viewBox=\"0 0 24 24\"\n",
              "     width=\"24px\">\n",
              "    <g>\n",
              "        <path d=\"M19 3H5c-1.1 0-2 .9-2 2v14c0 1.1.9 2 2 2h14c1.1 0 2-.9 2-2V5c0-1.1-.9-2-2-2zM9 17H7v-7h2v7zm4 0h-2V7h2v10zm4 0h-2v-4h2v4z\"/>\n",
              "    </g>\n",
              "</svg>\n",
              "  </button>\n",
              "\n",
              "<style>\n",
              "  .colab-df-quickchart {\n",
              "      --bg-color: #E8F0FE;\n",
              "      --fill-color: #1967D2;\n",
              "      --hover-bg-color: #E2EBFA;\n",
              "      --hover-fill-color: #174EA6;\n",
              "      --disabled-fill-color: #AAA;\n",
              "      --disabled-bg-color: #DDD;\n",
              "  }\n",
              "\n",
              "  [theme=dark] .colab-df-quickchart {\n",
              "      --bg-color: #3B4455;\n",
              "      --fill-color: #D2E3FC;\n",
              "      --hover-bg-color: #434B5C;\n",
              "      --hover-fill-color: #FFFFFF;\n",
              "      --disabled-bg-color: #3B4455;\n",
              "      --disabled-fill-color: #666;\n",
              "  }\n",
              "\n",
              "  .colab-df-quickchart {\n",
              "    background-color: var(--bg-color);\n",
              "    border: none;\n",
              "    border-radius: 50%;\n",
              "    cursor: pointer;\n",
              "    display: none;\n",
              "    fill: var(--fill-color);\n",
              "    height: 32px;\n",
              "    padding: 0;\n",
              "    width: 32px;\n",
              "  }\n",
              "\n",
              "  .colab-df-quickchart:hover {\n",
              "    background-color: var(--hover-bg-color);\n",
              "    box-shadow: 0 1px 2px rgba(60, 64, 67, 0.3), 0 1px 3px 1px rgba(60, 64, 67, 0.15);\n",
              "    fill: var(--button-hover-fill-color);\n",
              "  }\n",
              "\n",
              "  .colab-df-quickchart-complete:disabled,\n",
              "  .colab-df-quickchart-complete:disabled:hover {\n",
              "    background-color: var(--disabled-bg-color);\n",
              "    fill: var(--disabled-fill-color);\n",
              "    box-shadow: none;\n",
              "  }\n",
              "\n",
              "  .colab-df-spinner {\n",
              "    border: 2px solid var(--fill-color);\n",
              "    border-color: transparent;\n",
              "    border-bottom-color: var(--fill-color);\n",
              "    animation:\n",
              "      spin 1s steps(1) infinite;\n",
              "  }\n",
              "\n",
              "  @keyframes spin {\n",
              "    0% {\n",
              "      border-color: transparent;\n",
              "      border-bottom-color: var(--fill-color);\n",
              "      border-left-color: var(--fill-color);\n",
              "    }\n",
              "    20% {\n",
              "      border-color: transparent;\n",
              "      border-left-color: var(--fill-color);\n",
              "      border-top-color: var(--fill-color);\n",
              "    }\n",
              "    30% {\n",
              "      border-color: transparent;\n",
              "      border-left-color: var(--fill-color);\n",
              "      border-top-color: var(--fill-color);\n",
              "      border-right-color: var(--fill-color);\n",
              "    }\n",
              "    40% {\n",
              "      border-color: transparent;\n",
              "      border-right-color: var(--fill-color);\n",
              "      border-top-color: var(--fill-color);\n",
              "    }\n",
              "    60% {\n",
              "      border-color: transparent;\n",
              "      border-right-color: var(--fill-color);\n",
              "    }\n",
              "    80% {\n",
              "      border-color: transparent;\n",
              "      border-right-color: var(--fill-color);\n",
              "      border-bottom-color: var(--fill-color);\n",
              "    }\n",
              "    90% {\n",
              "      border-color: transparent;\n",
              "      border-bottom-color: var(--fill-color);\n",
              "    }\n",
              "  }\n",
              "</style>\n",
              "\n",
              "  <script>\n",
              "    async function quickchart(key) {\n",
              "      const quickchartButtonEl =\n",
              "        document.querySelector('#' + key + ' button');\n",
              "      quickchartButtonEl.disabled = true;  // To prevent multiple clicks.\n",
              "      quickchartButtonEl.classList.add('colab-df-spinner');\n",
              "      try {\n",
              "        const charts = await google.colab.kernel.invokeFunction(\n",
              "            'suggestCharts', [key], {});\n",
              "      } catch (error) {\n",
              "        console.error('Error during call to suggestCharts:', error);\n",
              "      }\n",
              "      quickchartButtonEl.classList.remove('colab-df-spinner');\n",
              "      quickchartButtonEl.classList.add('colab-df-quickchart-complete');\n",
              "    }\n",
              "    (() => {\n",
              "      let quickchartButtonEl =\n",
              "        document.querySelector('#df-2aea479c-ced3-4d54-b02d-571347badec9 button');\n",
              "      quickchartButtonEl.style.display =\n",
              "        google.colab.kernel.accessAllowed ? 'block' : 'none';\n",
              "    })();\n",
              "  </script>\n",
              "</div>\n",
              "    </div>\n",
              "  </div>\n"
            ],
            "application/vnd.google.colaboratory.intrinsic+json": {
              "type": "dataframe",
              "variable_name": "BISEQUENCE_FREQS",
              "summary": "{\n  \"name\": \"BISEQUENCE_FREQS\",\n  \"rows\": 35,\n  \"fields\": [\n    {\n      \"column\": \"biseq\",\n      \"properties\": {\n        \"dtype\": \"string\",\n        \"num_unique_values\": 35,\n        \"samples\": [\n          \"\\u0438\\u043e\",\n          \"\\u0441\\u043a\",\n          \"\\u043d\\u043d\"\n        ],\n        \"semantic_type\": \"\",\n        \"description\": \"\"\n      }\n    },\n    {\n      \"column\": \"freq\",\n      \"properties\": {\n        \"dtype\": \"number\",\n        \"std\": 129,\n        \"min\": 320,\n        \"max\": 680,\n        \"num_unique_values\": 6,\n        \"samples\": [\n          680,\n          676,\n          320\n        ],\n        \"semantic_type\": \"\",\n        \"description\": \"\"\n      }\n    }\n  ]\n}"
            }
          },
          "metadata": {},
          "execution_count": 2
        }
      ]
    },
    {
      "cell_type": "markdown",
      "source": [
        "## Инициализация раскладки клавиатуры"
      ],
      "metadata": {
        "id": "jYw2Ar_wR46D"
      }
    },
    {
      "cell_type": "code",
      "source": [
        "FIRST_ROW = [list('1234567890')]\n",
        "SECOND_ROW = [list('йцукенгшщзх')]\n",
        "THIRD_ROW = [list('фывапролджэ')]\n",
        "FOURTH_ROW = [list('ячсмитьбю')]\n",
        "FIFTH_ROW = [list(', .\\n')]\n",
        "ROWS = [FIRST_ROW, SECOND_ROW, THIRD_ROW, FOURTH_ROW, FIFTH_ROW]\n",
        "\n",
        "KEYBINDS = \\\n",
        "[\n",
        "# first row\n",
        "[(68,68), (174, 68), (280, 68), (385, 68), (485, 68),\n",
        " (585, 68), (685, 68), (790, 68), (905, 68), (1010, 68)],\n",
        "# second row\n",
        "[(60, 201),(155, 201),(255, 201),(345, 201),(445, 201),\n",
        " (540, 201),(635, 201),(730, 201),(820, 201),(920, 201),(1015, 201)],\n",
        "# third row\n",
        "[(60, 350),(155, 350),(255, 350),(345, 350),(445, 350),\n",
        " (540, 350),(635, 350),(730, 350),(820, 350),(920, 350),(1015, 350)],\n",
        "# fourth row\n",
        "[(155, 500),(255, 500),(345, 500),(445, 500),\n",
        " (540, 500),(635, 500),(730, 500),(820, 500),(920, 500)],\n",
        "# fifth row\n",
        "[(224, 645),(530, 645),(855, 645),(980, 645)],\n",
        "]"
      ],
      "metadata": {
        "id": "lI9FBWPMRtyM"
      },
      "execution_count": null,
      "outputs": []
    },
    {
      "cell_type": "markdown",
      "source": [
        "## Создание раскладки клавиатуры по заданному шаблону"
      ],
      "metadata": {
        "id": "3bTLVgoTSbJv"
      }
    },
    {
      "cell_type": "code",
      "source": [
        "def generate_one():\n",
        "    # mapper это наша хромосома одной особи\n",
        "    mapper = {}\n",
        "    for k, row in enumerate(ROWS):\n",
        "        for chng, row_lang in enumerate(row):\n",
        "            for i, s in enumerate(row_lang):\n",
        "                mapper[s] = (KEYBINDS[k][i][0]//10, KEYBINDS[k][i][1]//10)\n",
        "    return mapper"
      ],
      "metadata": {
        "id": "-fPI_aQXSaKu"
      },
      "execution_count": null,
      "outputs": []
    },
    {
      "cell_type": "markdown",
      "source": [
        "## Функция отрисовки раскладки"
      ],
      "metadata": {
        "id": "3nVQP-7cSmCd"
      }
    },
    {
      "cell_type": "code",
      "source": [
        "def plot_keyboard(mapper, generation=0):\n",
        "    keyboard_img = Image.open('keyboard.png').convert('RGB')\n",
        "    d = ImageDraw.Draw(keyboard_img)\n",
        "    font = ImageFont.truetype(\"Roboto-Bold.ttf\", 30)\n",
        "    for s, v in mapper.items():\n",
        "        if s=='\\n':\n",
        "            s = 'Ent'\n",
        "        if s==' ':\n",
        "            s = '__'\n",
        "        x, y = v[0]*10, v[1]*10\n",
        "\n",
        "        d.text((x, y), s, font=font, fill=(255, 255, 255, 255))\n",
        "    return keyboard_img.resize((500, 250))"
      ],
      "metadata": {
        "id": "VffIk5ArR9C2"
      },
      "execution_count": null,
      "outputs": []
    },
    {
      "cell_type": "markdown",
      "source": [
        "Проверим, что отрисовалось правильно"
      ],
      "metadata": {
        "id": "R5siwz3FTRVy"
      }
    },
    {
      "cell_type": "code",
      "source": [
        "plot_keyboard(generate_one())"
      ],
      "metadata": {
        "colab": {
          "base_uri": "https://localhost:8080/",
          "height": 267
        },
        "id": "ZxpNHoTBSTGC",
        "outputId": "fd64b518-8591-42ba-c023-4a6d3b65d93d"
      },
      "execution_count": null,
      "outputs": [
        {
          "output_type": "execute_result",
          "data": {
            "text/plain": [
              "<PIL.Image.Image image mode=RGB size=500x250>"
            ],
            "image/png": "[encoded data removed]",
            "image/jpeg": "[encoded data removed]"
          },
          "metadata": {},
          "execution_count": 11
        }
      ]
    },
    {
      "cell_type": "markdown",
      "source": [
        "## Зададим функцию приспособленности"
      ],
      "metadata": {
        "id": "OlS_uLXnU3tz"
      }
    },
    {
      "cell_type": "code",
      "source": [
        "# функция приспособленности должна минимизировать расстояние,\n",
        "# требуемое для написания слов\n",
        "def get_scores(population):\n",
        "    scores = []\n",
        "    for new_mapper in population:\n",
        "        cache = {}\n",
        "        for i in charmap:\n",
        "            for j in charmap:\n",
        "                cache[i+j] = \\\n",
        "                    np.square(np.array(new_mapper.get(i, [-100, -100])) -\n",
        "                              np.array(new_mapper.get(j, [-100, -100]))).sum()**0.5\n",
        "\n",
        "        weights = BISEQUENCE_FREQS.biseq.map(cache)\n",
        "        scores.append(BISEQUENCE_FREQS['freq'].dot(weights))\n",
        "    return scores"
      ],
      "metadata": {
        "id": "5j7Y88hoUReW"
      },
      "execution_count": null,
      "outputs": []
    },
    {
      "cell_type": "markdown",
      "source": [
        "## Зададим функции мутации и скрещивания"
      ],
      "metadata": {
        "id": "vPeaNDHBVR3I"
      }
    },
    {
      "cell_type": "code",
      "source": [
        "def mutation(thingey, mutation_rate=0.05):\n",
        "    # мутация меняет местами mutation_rate*100 % клавиш друг с другом\n",
        "    keys = list(thingey.keys())\n",
        "    values = list(thingey.values())\n",
        "\n",
        "    mutation = (np.random.random(size=len(values))<mutation_rate).nonzero()[0]\n",
        "    swap_index_to = np.random.choice(len(values),\n",
        "                                     size=len(values),\n",
        "                                     replace=False)\n",
        "\n",
        "    new_values = np.array(values)\n",
        "    for i, j in zip(mutation, swap_index_to[mutation]):\n",
        "        new_values[[i,j]] = new_values[[j,i]]\n",
        "\n",
        "    return {k:v for k,v in zip(keys, new_values)}\n",
        "\n",
        "def crossover(thingeyA, thingeyB):\n",
        "    # скрещивание между двумя особями заменяет n-ое количество клавиш 1ой особи\n",
        "    # n-ым количеством клавиш второй особи с сохранением\n",
        "    # порядка их встречаемости на раскладке (приоритет сверху-вниз, слево-направо)\n",
        "    keysA = list(thingeyA.keys())\n",
        "    valuesA = list(thingeyA.values())\n",
        "\n",
        "    keysB = list(thingeyB.keys())\n",
        "    valuesB = list(thingeyB.values())\n",
        "\n",
        "    ranksA = np.argsort(keysA)\n",
        "\n",
        "    keysA = np.array(keysA)[ranksA].copy()\n",
        "    keysB = np.array(keysB)[ranksA].copy()\n",
        "    valuesA = np.array(valuesA)[ranksA].copy()\n",
        "    valuesB = np.array(valuesB)[ranksA].copy()\n",
        "\n",
        "    offset = np.random.randint(1, max(2, len(valuesA)-1))\n",
        "    offspring = {k:v for k, v in zip(keysA[:offset], valuesA[:offset])}\n",
        "\n",
        "    keysO = list(offspring.keys())\n",
        "    valuesO = list(offspring.values())\n",
        "\n",
        "    keys_rest = list(filter(lambda k: k not in offspring, thingeyB.keys()))\n",
        "    valuesRest = valuesA[offset:]\n",
        "    values = valuesB[offset:]\n",
        "    ranking = (\n",
        "        values +\n",
        "        (np.max(values)+1)**np.arange(len(values[0])).reshape(1, -1)\n",
        "               ).sum(axis=1).argsort()\n",
        "    for k, v in zip(keys_rest, valuesRest[ranking]):\n",
        "        offspring[k] = v\n",
        "\n",
        "    # проверка что клавиши не потерялись и не задублировались\n",
        "    assert set(offspring.keys()\n",
        "    ).symmetric_difference(thingeyA.keys()).__len__()==0\n",
        "    assert set(map(tuple, offspring.values())\n",
        "    ).symmetric_difference(set(map(tuple, thingeyA.values()))).__len__()==0\n",
        "    return offspring"
      ],
      "metadata": {
        "id": "_fN0JOmCVkoI"
      },
      "execution_count": null,
      "outputs": []
    },
    {
      "cell_type": "markdown",
      "source": [
        "## Зададим функции генерации начальной популяции и новой"
      ],
      "metadata": {
        "id": "axPDkBeQW4Vn"
      }
    },
    {
      "cell_type": "code",
      "source": [
        "def generate_initial(POPULATION_SIZE, mrate=0.0):\n",
        "    # первая раскладка неизменённая (может быть лучшее решение)\n",
        "    population = [mutation(generate_one(), mutation_rate=0.0)]\n",
        "\n",
        "    # остальные со случайными перестановками клавиш\n",
        "    for _ in range(max(0, POPULATION_SIZE - 1)):\n",
        "        population.append(mutation(generate_one(), mutation_rate=mrate))\n",
        "    return population\n",
        "\n",
        "def generate_new_population(population, scores,\n",
        "                            population_size=10,\n",
        "                            elite_topk=1,\n",
        "                            random_size=2,\n",
        "                            ):\n",
        "    new_population = []\n",
        "    # элитизм\n",
        "    for topK in range(elite_topk):\n",
        "        new_population.append(population[np.argsort(scores)[topK]].copy())\n",
        "    # трансформация функции приспособленности\n",
        "    # оценка -> ранг -> экспоненцирование -> нормализация\n",
        "    scores_ranks = scores.copy()\n",
        "    for i, r in enumerate(np.argsort(scores)):\n",
        "        scores_ranks[r] = i\n",
        "    scores_ranks = np.exp(-np.array(scores_ranks)/len(scores_ranks)*4)\n",
        "    scores_ranks /= scores_ranks.sum()\n",
        "\n",
        "    # рулеточный отбор особей для продолжения потомства\n",
        "    for _ in range(max(0, population_size - elite_topk - random_size)):\n",
        "        parentA, parentB = np.random.choice(len(scores), size=2, replace=True, p=scores_ranks)\n",
        "        new_population.append(mutation(crossover(population[parentA], population[parentB])))\n",
        "    # добавление особей со стороны\n",
        "    for _ in range(max(0, random_size)):\n",
        "        if np.random.random() < 0.5:\n",
        "            # полностью случайная раскладка с перемешанными клавишами\n",
        "            new_population.append(mutation(generate_one(), 1.0))\n",
        "        else:\n",
        "            # случайно изменённая лучшая (hill climbing)\n",
        "            new_population.append(mutation(new_population[0]))\n",
        "\n",
        "    return new_population"
      ],
      "metadata": {
        "id": "-l45eGbyXDQL"
      },
      "execution_count": null,
      "outputs": []
    },
    {
      "cell_type": "markdown",
      "source": [
        "## Осуществим оптимизацию раскладки клавиатуры с помощью генетического алгоритма"
      ],
      "metadata": {
        "id": "CvnePrWHZ_gH"
      }
    },
    {
      "cell_type": "code",
      "source": [
        "POPULATION_SIZE = 200\n",
        "ELITISM_TOPK = 10\n",
        "RANDOM_SIZE = 100\n",
        "NUM_GENERATIONS = 25\n",
        "NUM_RESTARTS = 10\n",
        "\n",
        "bscore = np.inf\n",
        "stats = []\n",
        "for restart in range(NUM_RESTARTS):\n",
        "    print('Рестарт: %d' % (restart+1))\n",
        "    population = generate_initial(POPULATION_SIZE, 1.0)\n",
        "    for generation in range(NUM_GENERATIONS):\n",
        "        scores = get_scores(population)\n",
        "        population = generate_new_population(population, scores,\n",
        "                                            POPULATION_SIZE,\n",
        "                                            ELITISM_TOPK,\n",
        "                                            RANDOM_SIZE)\n",
        "        stats.append((generation, min(scores), max(scores), np.mean(scores)))\n",
        "        if min(scores) < bscore:\n",
        "            bscore = min(scores)\n",
        "            bimg = plot_keyboard(population[0], generation)\n",
        "            print(('Поколение: %d\\tЛучшее расстояние: %.1f\\t'\n",
        "                   'Худшее расстояние: %.1f\\t'\n",
        "                   'Среднее расстояние в популяции: %.1f')%stats[-1])"
      ],
      "metadata": {
        "colab": {
          "base_uri": "https://localhost:8080/"
        },
        "id": "Dp_D3g-FYm0h",
        "outputId": "9f1cfc15-fab1-4612-f3df-cdab56a693cd"
      },
      "execution_count": null,
      "outputs": [
        {
          "output_type": "stream",
          "name": "stdout",
          "text": [
            "Рестарт: 1\n",
            "Поколение: 0\tЛучшее расстояние: 347890.9\tХудшее расстояние: 791124.8\tСреднее расстояние в популяции: 567431.9\n",
            "Поколение: 1\tЛучшее расстояние: 324733.0\tХудшее расстояние: 811119.3\tСреднее расстояние в популяции: 502763.5\n",
            "Поколение: 2\tЛучшее расстояние: 297531.2\tХудшее расстояние: 779579.7\tСреднее расстояние в популяции: 494100.0\n",
            "Поколение: 3\tЛучшее расстояние: 289352.2\tХудшее расстояние: 812917.2\tСреднее расстояние в популяции: 476117.0\n",
            "Поколение: 4\tЛучшее расстояние: 268562.9\tХудшее расстояние: 768846.9\tСреднее расстояние в популяции: 461197.0\n",
            "Поколение: 5\tЛучшее расстояние: 251265.8\tХудшее расстояние: 723408.6\tСреднее расстояние в популяции: 441092.7\n",
            "Поколение: 8\tЛучшее расстояние: 250123.4\tХудшее расстояние: 792536.2\tСреднее расстояние в популяции: 430102.9\n",
            "Поколение: 10\tЛучшее расстояние: 249353.1\tХудшее расстояние: 728191.8\tСреднее расстояние в популяции: 438099.6\n",
            "Поколение: 12\tЛучшее расстояние: 245761.4\tХудшее расстояние: 671016.6\tСреднее расстояние в популяции: 429355.9\n",
            "Поколение: 14\tЛучшее расстояние: 234221.6\tХудшее расстояние: 712797.6\tСреднее расстояние в популяции: 426241.1\n",
            "Поколение: 18\tЛучшее расстояние: 233331.9\tХудшее расстояние: 717193.2\tСреднее расстояние в популяции: 422798.4\n",
            "Поколение: 22\tЛучшее расстояние: 232809.4\tХудшее расстояние: 750321.1\tСреднее расстояние в популяции: 422315.6\n",
            "Рестарт: 2\n",
            "Поколение: 23\tЛучшее расстояние: 232217.1\tХудшее расстояние: 853981.7\tСреднее расстояние в популяции: 445316.4\n",
            "Рестарт: 3\n",
            "Рестарт: 4\n",
            "Поколение: 17\tЛучшее расстояние: 229292.0\tХудшее расстояние: 748735.4\tСреднее расстояние в популяции: 424505.3\n",
            "Рестарт: 5\n",
            "Поколение: 17\tЛучшее расстояние: 227537.4\tХудшее расстояние: 766430.4\tСреднее расстояние в популяции: 424196.8\n",
            "Поколение: 19\tЛучшее расстояние: 221719.3\tХудшее расстояние: 746264.7\tСреднее расстояние в популяции: 422812.0\n",
            "Поколение: 21\tЛучшее расстояние: 220754.8\tХудшее расстояние: 737913.6\tСреднее расстояние в популяции: 416374.4\n",
            "Рестарт: 6\n",
            "Поколение: 18\tЛучшее расстояние: 218587.1\tХудшее расстояние: 790968.2\tСреднее расстояние в популяции: 420106.5\n",
            "Поколение: 22\tЛучшее расстояние: 215449.7\tХудшее расстояние: 754208.8\tСреднее расстояние в популяции: 417863.9\n",
            "Поколение: 23\tЛучшее расстояние: 213804.2\tХудшее расстояние: 791070.4\tСреднее расстояние в популяции: 418172.5\n",
            "Рестарт: 7\n",
            "Рестарт: 8\n",
            "Рестарт: 9\n",
            "Рестарт: 10\n"
          ]
        }
      ]
    },
    {
      "cell_type": "markdown",
      "source": [
        "## Отобразим лучшую раскладку"
      ],
      "metadata": {
        "id": "2I8Q2YaxeadV"
      }
    },
    {
      "cell_type": "code",
      "source": [
        "bimg"
      ],
      "metadata": {
        "colab": {
          "base_uri": "https://localhost:8080/",
          "height": 267
        },
        "id": "nNhreBnabPji",
        "outputId": "5452df8f-c79e-4c09-c549-ba0327e7a67d"
      },
      "execution_count": null,
      "outputs": [
        {
          "output_type": "execute_result",
          "data": {
            "text/plain": [
              "<PIL.Image.Image image mode=RGB size=500x250>"
            ],
            "image/png": "[encoded data removed]",
            "image/jpeg": "[encoded data removed]"
          },
          "metadata": {},
          "execution_count": 42
        }
      ]
    },
    {
      "cell_type": "markdown",
      "source": [],
      "metadata": {
        "id": "ebvI2zO9UmYL"
      }
    },
    {
      "cell_type": "markdown",
      "source": [
        "Как можно увидеть, все буквы слова \"приветик\" собрались в одном месте. Кроме того, ГА расположил \"и\" по центру, таким образом обход по буквам п->р->и->в->е->т->и->к минимизируется. После 10 повторных запусков ГА минимальное найденное расстояние оказалось равным 82560.2. Это в два раза меньше чем у стандартной раскладки клавиатуры."
      ],
      "metadata": {
        "id": "-G4c-ftHeg8F"
      }
    },
    {
      "cell_type": "markdown",
      "source": [
        "# Часть 2"
      ],
      "metadata": {
        "id": "db6LtlAXu87P"
      }
    },
    {
      "cell_type": "markdown",
      "source": [
        "## Snake"
      ],
      "metadata": {
        "id": "yvXvtX5ovEYP"
      }
    },
    {
      "cell_type": "markdown",
      "source": [
        "### Загрузка нужных библиотек"
      ],
      "metadata": {
        "id": "tZKWSXEJySDX"
      }
    },
    {
      "cell_type": "code",
      "source": [
        "import json\n",
        "import random\n",
        "import numpy as np"
      ],
      "metadata": {
        "id": "HuJReiJXvGjr"
      },
      "execution_count": null,
      "outputs": []
    },
    {
      "cell_type": "markdown",
      "source": [
        "### Объявление глобальных переменных"
      ],
      "metadata": {
        "id": "97hPigTcyY8_"
      }
    },
    {
      "cell_type": "code",
      "source": [
        "width = 400\n",
        "height = 400\n",
        "grid = 16\n",
        "count = 0\n",
        "snake = dict(x=160, y=160, dx=grid, dy=0, cells=[], maxCells=4)\n",
        "apple = dict(x=320, y=320)"
      ],
      "metadata": {
        "id": "tg49koQlvUE9"
      },
      "execution_count": null,
      "outputs": []
    },
    {
      "cell_type": "markdown",
      "source": [
        "### Логика игры"
      ],
      "metadata": {
        "id": "MfGEDoQMycvr"
      }
    },
    {
      "cell_type": "code",
      "source": [
        "def restart():\n",
        "    snake = dict(x=160, y=160, dx=grid, dy=0, cells=[], maxCells=4)\n",
        "    apple = dict(x=320, y=320)\n",
        "    return snake, apple\n",
        "\n",
        "\n",
        "def generate_apple(apple):\n",
        "    apple['x'] = random.randint(0, 25) * grid\n",
        "    apple['y'] = random.randint(0, 25) * grid\n",
        "\n",
        "\n",
        "def loop(snake, apple):\n",
        "    snake['x'] += snake['dx']\n",
        "    snake['y'] += snake['dy']\n",
        "\n",
        "    if snake['x'] < 0:\n",
        "        snake['x'] = width - grid\n",
        "    elif snake['x'] >= width:\n",
        "        snake['x'] = 0\n",
        "\n",
        "    if snake['y'] < 0:\n",
        "        snake['y'] = height - grid\n",
        "    elif snake['y'] >= height:\n",
        "        snake['y'] = 0\n",
        "\n",
        "    snake['cells'] = [(snake['x'], snake['y'])] + snake['cells']\n",
        "\n",
        "    if len(snake['cells']) > snake['maxCells']:\n",
        "        snake['cells'].pop()\n",
        "\n",
        "    for index, cell in enumerate(snake['cells']):\n",
        "        if cell[0] == apple['x'] and cell[1] == apple['y']:\n",
        "            snake['maxCells'] += 1\n",
        "            generate_apple(apple)\n",
        "\n",
        "        for i in range(index + 1, len(snake['cells'])):\n",
        "            # snake occupies same space as a body part. reset game\n",
        "            if (cell[0] == snake['cells'][i][0] and\n",
        "                cell[1] == snake['cells'][i][1]):\n",
        "                return -1#restart(snake, apple)\n",
        "\n",
        "    return 0"
      ],
      "metadata": {
        "id": "K4IfdX62vXEN"
      },
      "execution_count": null,
      "outputs": []
    },
    {
      "cell_type": "markdown",
      "source": [
        "### Действия агента"
      ],
      "metadata": {
        "id": "8w9nZT8g2iHO"
      }
    },
    {
      "cell_type": "code",
      "source": [
        "actionMap = {0: 37, 1: 38, 2: 39, 3: 40}\n",
        "\n",
        "def apply_action(snake, actionId):\n",
        "    key = actionMap[actionId]\n",
        "\n",
        "    if (key == 37 and snake['dx'] == 0):\n",
        "        snake['dx'] = -grid\n",
        "        snake['dy'] = 0\n",
        "    elif (key == 38 and snake['dy'] == 0):\n",
        "        snake['dx'] = 0\n",
        "        snake['dy'] = -grid\n",
        "    elif (key == 39 and snake['dx'] == 0):\n",
        "        snake['dx'] = grid\n",
        "        snake['dy'] = 0\n",
        "    elif (key == 40 and snake['dy'] == 0):\n",
        "        snake['dx'] = 0\n",
        "        snake['dy'] = grid"
      ],
      "metadata": {
        "id": "awSARba2vbiH"
      },
      "execution_count": null,
      "outputs": []
    },
    {
      "cell_type": "markdown",
      "source": [
        "### Признаки для интеллектуального агента"
      ],
      "metadata": {
        "id": "N7uvPZT_yi9g"
      }
    },
    {
      "cell_type": "code",
      "source": [
        "def get_features(snake, apple):\n",
        "    sensors = [\n",
        "        np.sign(snake['dx']),\n",
        "        np.sign(snake['dy']),\n",
        "        (snake['x'] - snake['cells'][-1][0])/width if len(snake['cells']) else 0,\n",
        "        (snake['y'] - snake['cells'][-1][1])/height if len(snake['cells']) else 0,\n",
        "        snake['x'] == apple['x'],\n",
        "        snake['y'] == apple['y'],\n",
        "        (snake['x'] - apple['x'])/width>0,\n",
        "        (snake['x'] - apple['x'])/width<0,\n",
        "        (snake['y'] - apple['y'])/height>0,\n",
        "        (snake['y'] - apple['y'])/height<0,\n",
        "        any([(snake['x'] == cell[0] and snake['dy'] == 0) for cell in snake['cells'][1:]]),\n",
        "        any([(snake['y'] == cell[1] and snake['dx'] == 0) for cell in snake['cells'][1:]]),\n",
        "        any([(snake['x'] == cell[0] and snake['dy'] > 0) for cell in snake['cells'][1:]]),\n",
        "        any([(snake['y'] == cell[1] and snake['dx'] > 0) for cell in snake['cells'][1:]]),\n",
        "        any([(snake['x'] == cell[0] and snake['dy'] < 0) for cell in snake['cells'][1:]]),\n",
        "        any([(snake['y'] == cell[1] and snake['dx'] < 0) for cell in snake['cells'][1:]]),\n",
        "    ]\n",
        "    return sensors\n",
        "\n",
        "%timeit get_features(snake, apple)"
      ],
      "metadata": {
        "colab": {
          "base_uri": "https://localhost:8080/"
        },
        "id": "hyx98p71ve5j",
        "outputId": "6b8f4943-4f56-41b4-dfbd-b5c7e99b9fc4"
      },
      "execution_count": null,
      "outputs": [
        {
          "output_type": "stream",
          "name": "stdout",
          "text": [
            "5.53 µs ± 185 ns per loop (mean ± std. dev. of 7 runs, 100000 loops each)\n"
          ]
        }
      ]
    },
    {
      "cell_type": "markdown",
      "source": [
        "### \"Мозги\" интеллектуального агента"
      ],
      "metadata": {
        "id": "0i5R_wNCypGk"
      }
    },
    {
      "cell_type": "code",
      "source": [
        "def get_one():\n",
        "    W = np.random.normal(size=(16, 4))\n",
        "    b = np.random.normal(size=(4,))\n",
        "    return W, b\n",
        "\n",
        "\n",
        "def getAction(snake, apple, W, b):\n",
        "    return (W.T.dot(get_features(snake, apple)) + b).argmax()\n",
        "\n",
        "getAction(snake, apple, *get_one())"
      ],
      "metadata": {
        "colab": {
          "base_uri": "https://localhost:8080/"
        },
        "id": "jmp86W7JvijI",
        "outputId": "88c31c03-6847-4733-9cf8-fae63922e7c0"
      },
      "execution_count": null,
      "outputs": [
        {
          "output_type": "execute_result",
          "data": {
            "text/plain": [
              "1"
            ]
          },
          "metadata": {},
          "execution_count": 48
        }
      ]
    },
    {
      "cell_type": "markdown",
      "source": [
        "### Функция приспособленности"
      ],
      "metadata": {
        "id": "BZ9kl-uUyuRQ"
      }
    },
    {
      "cell_type": "code",
      "source": [
        "def get_score(W, b, patience=100):\n",
        "    snake, apple = restart()\n",
        "    maxCells_patience = patience\n",
        "    maxCells_prev = snake['maxCells']\n",
        "    while loop(snake, apple) != -1:\n",
        "        apply_action(snake, getAction(snake, apple, W, b))\n",
        "        if snake['maxCells'] > maxCells_prev:\n",
        "            maxCells_prev = snake['maxCells']\n",
        "            maxCells_patience = patience\n",
        "        maxCells_patience -= 1\n",
        "        if maxCells_patience < 0:\n",
        "            snake['maxCells'] = snake['maxCells']/2\n",
        "            break\n",
        "    return snake['maxCells']"
      ],
      "metadata": {
        "id": "4LIkJo2Rv2xX"
      },
      "execution_count": null,
      "outputs": []
    },
    {
      "cell_type": "markdown",
      "source": [
        "### Этапы генетического алгоритма"
      ],
      "metadata": {
        "id": "f9dsmm13yw-5"
      }
    },
    {
      "cell_type": "code",
      "source": [
        "def mutate(W, b, mutation_rate=0.02):\n",
        "    dW, db = get_one()\n",
        "    dWM, dbM = get_one()\n",
        "    return (W + dW * (dWM > 0) * mutation_rate,\n",
        "            b + db * (dbM > 0) * mutation_rate)\n",
        "\n",
        "\n",
        "def crossover(W1, b1, W2, b2):\n",
        "    maskW = np.random.random(W1.shape) < 0.5\n",
        "    maskb = np.random.random(b1.shape) < 0.5\n",
        "    return W1 * maskW + W2 * (~maskW), b1 * maskb + b2 * (~maskb)"
      ],
      "metadata": {
        "id": "JVsTfSmNwKhs"
      },
      "execution_count": null,
      "outputs": []
    },
    {
      "cell_type": "markdown",
      "source": [
        "### Этапы генетического алгоритма II"
      ],
      "metadata": {
        "id": "OOOZCkWTy1pA"
      }
    },
    {
      "cell_type": "code",
      "source": [
        "def generate_random(population, size):\n",
        "    new_population = []\n",
        "    for _ in range(size):\n",
        "        if np.random.random()<0.5:\n",
        "            new_population.append(get_one())\n",
        "        else:\n",
        "            new_population.append(mutate(*population[0]))\n",
        "    return new_population\n",
        "\n",
        "\n",
        "def selection(population, scores, topK=2):\n",
        "    scores = np.array(scores)*1.\n",
        "    scores /= scores.sum()\n",
        "    elitismTopK = np.argsort(scores)[::-1][:topK//2]\n",
        "    roulleteTopK = np.random.choice(len(scores),\n",
        "                                    p=scores,\n",
        "                                    size=topK//2)\n",
        "\n",
        "    new_population = [tuple(map(lambda x: x.copy(), population[i])) for i in elitismTopK]+\\\n",
        "                     [tuple(map(lambda x: x.copy(), population[i])) for i in roulleteTopK]\n",
        "\n",
        "    return new_population\n",
        "\n",
        "\n",
        "def breed(population, scores, nChilds=10):\n",
        "    scores = np.array(scores)*1.\n",
        "    scores /= scores.sum()\n",
        "    parents = np.random.choice(len(scores),\n",
        "                               p=scores,\n",
        "                               size=(nChilds, 2))\n",
        "\n",
        "    new_population = []\n",
        "    for parentA, parentB in parents:\n",
        "        new_population.append(mutate(*crossover(*population[parentA], *population[parentB])))\n",
        "\n",
        "    return new_population\n",
        "\n",
        "\n",
        "def get_new_population(population, scores, topK=4, randomNum=10):\n",
        "    return (\n",
        "    selection(population, scores, topK) + \\\n",
        "    breed(population, scores, nChilds=max(0, len(population) - randomNum - topK)) + \\\n",
        "    generate_random(population, randomNum)\n",
        "    )"
      ],
      "metadata": {
        "id": "MRRHLTZrwNUx"
      },
      "execution_count": null,
      "outputs": []
    },
    {
      "cell_type": "markdown",
      "source": [
        "### Этапы генетического алгоритма III"
      ],
      "metadata": {
        "id": "34HKiy1Ay6dg"
      }
    },
    {
      "cell_type": "code",
      "source": [
        "def get_scores(population, patience=100):\n",
        "    scores = []\n",
        "    for W, b in population:\n",
        "        scores.append(get_score(W, b, patience))\n",
        "    return scores"
      ],
      "metadata": {
        "id": "yOBNnSNLwPbr"
      },
      "execution_count": null,
      "outputs": []
    },
    {
      "cell_type": "markdown",
      "source": [
        "### Обучение интеллектуального агента"
      ],
      "metadata": {
        "id": "ya3haqwny859"
      }
    },
    {
      "cell_type": "code",
      "source": [
        "POPULATION_SIZE = 64\n",
        "NUM_GENERATIONS = 10\n",
        "NUM_REPEATS = 3 # зачем?\n",
        "NUM_RESTARTS = 5\n",
        "PATIENCE = lambda x: 100*((x+5)//5)\n",
        "\n",
        "best_thingey = None\n",
        "best_score = 0\n",
        "\n",
        "for n_restart in range(NUM_RESTARTS):\n",
        "    print('='*50)\n",
        "    print('Cтарт перезапуска №%d'%(n_restart+1))\n",
        "    print('Лучшая пока что: %.1f'%best_score)\n",
        "    print('='*50)\n",
        "    population = [get_one() for _ in range(POPULATION_SIZE)]\n",
        "\n",
        "    for generation in range(NUM_GENERATIONS):\n",
        "        scores = 0\n",
        "        for _ in range(NUM_REPEATS):\n",
        "            scores += np.array(get_scores(population, PATIENCE(generation)))\n",
        "        scores /= NUM_REPEATS\n",
        "        bscore = max(scores)\n",
        "\n",
        "        scores **= 4 # зачем?\n",
        "        population = get_new_population(population, scores, topK=5, randomNum=20)\n",
        "        if bscore > best_score:\n",
        "            best_score = bscore\n",
        "            best_thingey = np.concatenate([population[0][0],     # W\n",
        "                                           [population[0][1]]])  # b\n",
        "            print('Рестарт: %d\\tПоколение: %d\\tЗначение: %.1f'%(n_restart+1,\n",
        "                                                                generation,\n",
        "                                                                bscore))"
      ],
      "metadata": {
        "colab": {
          "base_uri": "https://localhost:8080/"
        },
        "id": "1ECHDlIUwSL0",
        "outputId": "9f7469f4-48b7-4c98-ba23-c2da40bd1a43"
      },
      "execution_count": null,
      "outputs": [
        {
          "output_type": "stream",
          "name": "stdout",
          "text": [
            "==================================================\n",
            "Cтарт перезапуска №1\n",
            "Лучшая пока что: 0.0\n",
            "==================================================\n",
            "Рестарт: 1\tПоколение: 0\tЗначение: 20.7\n",
            "Рестарт: 1\tПоколение: 1\tЗначение: 20.8\n",
            "Рестарт: 1\tПоколение: 2\tЗначение: 26.3\n",
            "Рестарт: 1\tПоколение: 4\tЗначение: 27.7\n",
            "==================================================\n",
            "Cтарт перезапуска №2\n",
            "Лучшая пока что: 27.7\n",
            "==================================================\n",
            "==================================================\n",
            "Cтарт перезапуска №3\n",
            "Лучшая пока что: 27.7\n",
            "==================================================\n",
            "Рестарт: 3\tПоколение: 1\tЗначение: 31.3\n",
            "Рестарт: 3\tПоколение: 7\tЗначение: 36.3\n",
            "==================================================\n",
            "Cтарт перезапуска №4\n",
            "Лучшая пока что: 36.3\n",
            "==================================================\n",
            "==================================================\n",
            "Cтарт перезапуска №5\n",
            "Лучшая пока что: 36.3\n",
            "==================================================\n"
          ]
        }
      ]
    },
    {
      "cell_type": "markdown",
      "source": [
        "### Сохранение лучшего агента"
      ],
      "metadata": {
        "id": "gYrPSxOm0gIR"
      }
    },
    {
      "cell_type": "code",
      "source": [
        "with open('snake_weights.js', 'w') as f:\n",
        "    f.write('var W = %s;\\n'%\n",
        "            (json.dumps([[int(1e3*w)/1e3 for w in W] for W in best_thingey])))"
      ],
      "metadata": {
        "id": "tRwcJ0tfxisx"
      },
      "execution_count": null,
      "outputs": []
    },
    {
      "cell_type": "markdown",
      "source": [
        "А теперь запустите этот файл в index_with_bot.html и проверьте живучесть вашего интеллектуального агента. Возможны модификации следующего рода:\n",
        "* изменение \"мозгов\" агента (требует правки в JavaScript коде)\n",
        "* изменение/добавление/удаление входных признаков агента (требует правки в JavaScript коде)\n",
        "* изменение действий агента (требует правки в JavaScript коде)\n",
        "* изменение функции приспособленности\n",
        "* альтернативная логика селекции, скрещивания и мутации"
      ],
      "metadata": {
        "id": "xHsOvf5b1pbv"
      }
    },
    {
      "cell_type": "markdown",
      "source": [
        "## PingPong"
      ],
      "metadata": {
        "id": "_FT710br22G3"
      }
    },
    {
      "cell_type": "markdown",
      "source": [
        "### Загрузка нужных библиотек"
      ],
      "metadata": {
        "id": "tPQ0wZEZ22G8"
      }
    },
    {
      "cell_type": "code",
      "source": [
        "import json\n",
        "import random\n",
        "import numpy as np"
      ],
      "metadata": {
        "id": "2ocnivn522G8"
      },
      "execution_count": null,
      "outputs": []
    },
    {
      "cell_type": "markdown",
      "source": [
        "### Объявление глобальных переменных"
      ],
      "metadata": {
        "id": "e_LxFUmh22G8"
      }
    },
    {
      "cell_type": "code",
      "source": [
        "width = 750\n",
        "height = 585\n",
        "grid = 15\n",
        "paddleHeight = grid*5\n",
        "maxPaddleY = height - grid - paddleHeight\n",
        "paddleSpeed = 6\n",
        "ballSpeed = 5\n",
        "\n",
        "leftPaddle = dict(x=grid*2,\n",
        "                  y=height/2 - paddleHeight/2,\n",
        "                  width=grid,\n",
        "                  height=paddleHeight,\n",
        "                  dy=0)\n",
        "rightPaddle = dict(x=width-grid*3,\n",
        "                   y = height / 2 - paddleHeight/2,\n",
        "                   width=grid,\n",
        "                   height=paddleHeight,\n",
        "                   dy=0)\n",
        "ball = dict(x=width/2,\n",
        "            y=height/2,\n",
        "            width=grid,\n",
        "            height=grid,\n",
        "            resetting=False,\n",
        "            dx=ballSpeed,\n",
        "            dy=-ballSpeed,\n",
        "            score=0)"
      ],
      "metadata": {
        "id": "tLXXX5g122G8"
      },
      "execution_count": null,
      "outputs": []
    },
    {
      "cell_type": "markdown",
      "source": [
        "### Логика игры"
      ],
      "metadata": {
        "id": "9PiF2a9p22G8"
      }
    },
    {
      "cell_type": "code",
      "source": [
        "def collides(obj1, obj2):\n",
        "    return (\n",
        "        obj1['x'] < obj2['x'] + obj2['width'] and\n",
        "        obj1['x'] + obj1['width'] > obj2['x'] and\n",
        "        obj1['y'] < obj2['y'] + obj2['height'] and\n",
        "        obj1['y'] + obj1['height'] > obj2['y']\n",
        "    )\n",
        "\n",
        "\n",
        "def restart(leftPaddle, rightPaddle, ball):\n",
        "    ball['resetting'] = False\n",
        "    ball['x'] = width / 2\n",
        "    ball['y'] = height / 2\n",
        "    ball['score'] = 0\n",
        "\n",
        "    leftPaddle['x'] = grid*2\n",
        "    leftPaddle['y'] = height/2 - paddleHeight/2\n",
        "\n",
        "    rightPaddle['x'] = width - grid*3\n",
        "    rightPaddle['y'] = height / 2 - paddleHeight/2\n",
        "\n",
        "\n",
        "def loop(leftPaddle, rightPaddle, ball):\n",
        "    leftPaddle['y'] += leftPaddle['dy']\n",
        "    rightPaddle['y'] += rightPaddle['dy']\n",
        "\n",
        "    if (leftPaddle['y'] < grid):\n",
        "        leftPaddle['y'] = grid\n",
        "    elif (leftPaddle['y'] > maxPaddleY):\n",
        "        leftPaddle['y'] = maxPaddleY\n",
        "\n",
        "    if (rightPaddle['y'] < grid):\n",
        "        rightPaddle['y'] = grid\n",
        "    elif (rightPaddle['y'] > maxPaddleY):\n",
        "        rightPaddle['y'] = maxPaddleY\n",
        "\n",
        "    ball['x'] += ball['dx']\n",
        "    ball['y'] += ball['dy']\n",
        "\n",
        "    if (ball['y'] < grid):\n",
        "        ball['y'] = grid\n",
        "        ball['dy'] *= -1\n",
        "    elif (ball['y'] + grid > height - grid):\n",
        "        ball['y'] = height - grid * 2\n",
        "        ball['dy'] *= -1\n",
        "\n",
        "    if ( (ball['x'] < 0 or ball['x'] > width) and not ball['resetting']):\n",
        "        return -1\n",
        "\n",
        "    if (collides(ball, leftPaddle)):\n",
        "        ball['dx'] *= -1\n",
        "        ball['x'] = leftPaddle['x'] + leftPaddle['width']\n",
        "        ball['score'] += np.exp(-abs(ball['y'] - (leftPaddle['y'] + paddleHeight / 2))/paddleHeight)\n",
        "    elif (collides(ball, rightPaddle)):\n",
        "        ball['dx'] *= -1\n",
        "        ball['x'] = rightPaddle['x'] - rightPaddle['width']\n",
        "        ball['score'] += np.exp(-abs(ball['y'] - (rightPaddle['y'] + paddleHeight / 2))/paddleHeight)\n",
        "\n",
        "    return 0"
      ],
      "metadata": {
        "id": "o3i8kRv622G9"
      },
      "execution_count": null,
      "outputs": []
    },
    {
      "cell_type": "markdown",
      "source": [
        "### Действия агента"
      ],
      "metadata": {
        "id": "ZOXs2ZTq22G9"
      }
    },
    {
      "cell_type": "code",
      "source": [
        "actionMap = {0: 38, # правый игрок вверх\n",
        "             1: 40, # правый игрок вниз\n",
        "             2: 87, # левый игрок вверх\n",
        "             3: 83, # левый игрок вниз\n",
        "             4: -1, # правый игрок ожидает\n",
        "             5: -2} # вниз игрок ожидает\n",
        "\n",
        "def apply_action(leftPaddle, rightPaddle, actionId):\n",
        "    key = actionMap[actionId]\n",
        "\n",
        "    if key == 38:\n",
        "        rightPaddle['dy'] = -paddleSpeed\n",
        "    elif key == 40:\n",
        "        rightPaddle['dy'] = +paddleSpeed\n",
        "    elif key == -1:\n",
        "        rightPaddle['dy'] = 0\n",
        "    elif key == 87:\n",
        "        leftPaddle['dy'] = -paddleSpeed\n",
        "    elif key == 83:\n",
        "        leftPaddle['dy'] = +paddleSpeed\n",
        "    elif key == -2:\n",
        "        leftPaddle['dy'] = 0"
      ],
      "metadata": {
        "id": "fEOalkex22G9"
      },
      "execution_count": null,
      "outputs": []
    },
    {
      "cell_type": "markdown",
      "source": [
        "### Признаки для интеллектуального агента"
      ],
      "metadata": {
        "id": "UEa50wXx22G9"
      }
    },
    {
      "cell_type": "code",
      "source": [
        "def get_features(leftPaddle, rightPaddle, ball):\n",
        "    sensors = [\n",
        "        np.sign(leftPaddle['y'] - ball['y']),\n",
        "        np.abs(leftPaddle['y'] - ball['y']) / height,\n",
        "        np.abs(leftPaddle['x'] - ball['x']) / width,\n",
        "        np.sign(rightPaddle['y'] - ball['y']),\n",
        "        np.abs(rightPaddle['y'] - ball['y']) / height,\n",
        "        np.abs(rightPaddle['x'] - ball['x']) / width,\n",
        "        np.sign(leftPaddle['dy']),\n",
        "        np.sign(leftPaddle['dy'])==0,\n",
        "        np.sign(rightPaddle['dy']),\n",
        "        np.sign(rightPaddle['dy'])==0,\n",
        "        np.sign(ball['dx']),\n",
        "        np.sign(ball['dy']),\n",
        "        np.sign(ball['x'] - width//2),\n",
        "        np.sign(ball['y'] - height//2),\n",
        "        1 # что это?\n",
        "    ]\n",
        "\n",
        "    return sensors\n",
        "\n",
        "%timeit get_features(leftPaddle, rightPaddle, ball)"
      ],
      "metadata": {
        "colab": {
          "base_uri": "https://localhost:8080/"
        },
        "outputId": "ae5e5e7a-debf-45bd-ecf0-6adda6c538bc",
        "id": "aYhtq_mq22G9"
      },
      "execution_count": null,
      "outputs": [
        {
          "output_type": "stream",
          "name": "stdout",
          "text": [
            "16.6 µs ± 3.18 µs per loop (mean ± std. dev. of 7 runs, 100000 loops each)\n"
          ]
        }
      ]
    },
    {
      "cell_type": "markdown",
      "source": [
        "### \"Мозги\" интеллектуального агента"
      ],
      "metadata": {
        "id": "G5O1bmDY22G-"
      }
    },
    {
      "cell_type": "code",
      "source": [
        "def get_one():\n",
        "    W = np.random.normal(size=(15, 6))\n",
        "    return W\n",
        "\n",
        "def getAction(leftPaddle, rightPaddle, ball, W):\n",
        "    return (W.T.dot(get_features(leftPaddle, rightPaddle, ball))).argmax()\n",
        "\n",
        "getAction(leftPaddle, rightPaddle, ball, get_one())"
      ],
      "metadata": {
        "colab": {
          "base_uri": "https://localhost:8080/"
        },
        "outputId": "5d0f054d-2ee9-4ae2-c773-e798cb771106",
        "id": "6sxniDy922G_"
      },
      "execution_count": null,
      "outputs": [
        {
          "output_type": "execute_result",
          "data": {
            "text/plain": [
              "4"
            ]
          },
          "metadata": {},
          "execution_count": 6
        }
      ]
    },
    {
      "cell_type": "markdown",
      "source": [
        "### Функция приспособленности"
      ],
      "metadata": {
        "id": "wbiwkAD322G_"
      }
    },
    {
      "cell_type": "code",
      "source": [
        "def get_score(W, patience=100):\n",
        "    restart(leftPaddle, rightPaddle, ball)\n",
        "    maxScore_patience = patience\n",
        "    maxScore_prev = ball['score']\n",
        "    action = getAction(leftPaddle, rightPaddle, ball, W)\n",
        "    for _ in range(int(2e4)):\n",
        "        if loop(leftPaddle, rightPaddle, ball) == -1:\n",
        "            break\n",
        "        # симуляция запоздалой реакции агента\n",
        "        if np.random.random() < 0.5:\n",
        "            action = getAction(leftPaddle, rightPaddle, ball, W)\n",
        "        apply_action(leftPaddle, rightPaddle, action)\n",
        "        if  ball['score'] > maxScore_prev:\n",
        "            maxScore_prev = ball['score']\n",
        "            maxScore_patience = patience\n",
        "        maxScore_patience -= 1\n",
        "        if maxScore_patience < 0:\n",
        "            break\n",
        "    return ball['score']"
      ],
      "metadata": {
        "id": "2CWKzY2y22G_"
      },
      "execution_count": null,
      "outputs": []
    },
    {
      "cell_type": "markdown",
      "source": [
        "### Этапы генетического алгоритма"
      ],
      "metadata": {
        "id": "9yIr8F4B22G_"
      }
    },
    {
      "cell_type": "code",
      "source": [
        "def mutate(W, mutation_rate=0.02):\n",
        "    dW = get_one()\n",
        "    dM = get_one() > 0\n",
        "    return W + dW * dM * mutation_rate\n",
        "\n",
        "\n",
        "def crossover(W1, W2):\n",
        "    maskW = np.random.random(W1.shape) < 0.5\n",
        "    return W1 * maskW + W2 * (~maskW)"
      ],
      "metadata": {
        "id": "vm53hOVh22G_"
      },
      "execution_count": null,
      "outputs": []
    },
    {
      "cell_type": "markdown",
      "source": [
        "### Этапы генетического алгоритма II"
      ],
      "metadata": {
        "id": "Fwc-OL8w22G_"
      }
    },
    {
      "cell_type": "code",
      "source": [
        "def generate_random(population, size):\n",
        "    new_population = []\n",
        "    for _ in range(size):\n",
        "        if np.random.random() < 0.5:\n",
        "            new_population.append(get_one())\n",
        "        else:\n",
        "            new_population.append(mutate(population[0]))\n",
        "    return new_population\n",
        "\n",
        "\n",
        "def selection(population, scores, topK=2):\n",
        "    scores = np.array(scores)*1.\n",
        "    scores /= scores.sum()\n",
        "    elitismTopK = np.argsort(scores)[::-1][:topK//2]\n",
        "    roulleteTopK = np.random.choice(len(scores),\n",
        "                                    p=scores,\n",
        "                                    size=topK//2)\n",
        "\n",
        "    new_population = [population[i].copy() for i in elitismTopK] + \\\n",
        "                     [population[i].copy() for i in roulleteTopK]\n",
        "\n",
        "    return new_population\n",
        "\n",
        "\n",
        "def breed(population, scores, nChilds=10):\n",
        "    scores = np.array(scores)*1.\n",
        "    scores /= scores.sum()\n",
        "    parents = np.random.choice(len(scores),\n",
        "                               p=scores,\n",
        "                               size=(nChilds, 2))\n",
        "\n",
        "    new_population = []\n",
        "    for parentA, parentB in parents:\n",
        "        new_population.append(mutate(crossover(population[parentA],\n",
        "                                               population[parentB])))\n",
        "\n",
        "    return new_population\n",
        "\n",
        "\n",
        "def get_new_population(population, scores, topK=4, randomNum=10):\n",
        "    return (\n",
        "    selection(population, scores, topK) + \\\n",
        "    breed(population, scores,\n",
        "          nChilds=max(0, len(population) - randomNum - topK)) + \\\n",
        "    generate_random(population, randomNum)\n",
        "    )"
      ],
      "metadata": {
        "id": "ta2stpPS22G_"
      },
      "execution_count": null,
      "outputs": []
    },
    {
      "cell_type": "markdown",
      "source": [
        "### Этапы генетического алгоритма III"
      ],
      "metadata": {
        "id": "hTXPT4x222G_"
      }
    },
    {
      "cell_type": "code",
      "source": [
        "def get_scores(population, patience=100):\n",
        "    scores = []\n",
        "    for W in population:\n",
        "        scores.append(get_score(W, patience))\n",
        "    return scores"
      ],
      "metadata": {
        "id": "WgC8Z9Fq22HA"
      },
      "execution_count": null,
      "outputs": []
    },
    {
      "cell_type": "markdown",
      "source": [
        "### Обучение интеллектуального агента"
      ],
      "metadata": {
        "id": "GSEWQrV722HA"
      }
    },
    {
      "cell_type": "code",
      "source": [
        "POPULATION_SIZE = 100\n",
        "RANDOM_SIZE = 20\n",
        "ELITE_SIZE = 5\n",
        "NUM_GENERATIONS = 100\n",
        "NUM_REPEATS = 3 #\n",
        "NUM_RESTARTS = 2\n",
        "PATIENCE = lambda x: 1000*((x+2)//2)\n",
        "\n",
        "\n",
        "best_thingey = None\n",
        "best_score = 0\n",
        "\n",
        "for n_restart in range(NUM_RESTARTS):\n",
        "    print('='*50)\n",
        "    print('Cтарт перезапуска №%d'%(n_restart+1))\n",
        "    print('Лучшая пока что: %.1f'%best_score)\n",
        "    print('='*50)\n",
        "    population = [get_one() for _ in range(POPULATION_SIZE)]\n",
        "\n",
        "    for generation in range(NUM_GENERATIONS):\n",
        "        scores = 1e-10\n",
        "        for _ in range(NUM_REPEATS):\n",
        "            scores += np.array(get_scores(population, PATIENCE(generation)))\n",
        "        scores /= NUM_REPEATS\n",
        "        bscore = max(scores)\n",
        "\n",
        "        scores **= 4 # зачем?\n",
        "        population = get_new_population(population, scores,\n",
        "                                        topK=ELITE_SIZE,\n",
        "                                        randomNum=RANDOM_SIZE)\n",
        "        if bscore > best_score:\n",
        "            best_score = bscore\n",
        "            best_thingey = np.array(population[0])\n",
        "            print('Рестарт: %d\\tПоколение: %d\\tЗначение: %.1f'%(n_restart+1,\n",
        "                                                                generation,\n",
        "                                                                bscore))"
      ],
      "metadata": {
        "colab": {
          "base_uri": "https://localhost:8080/"
        },
        "outputId": "66978acc-a384-4ad0-fd5d-927d2478bedc",
        "id": "ylnqj0di22HA"
      },
      "execution_count": null,
      "outputs": [
        {
          "output_type": "stream",
          "name": "stdout",
          "text": [
            "==================================================\n",
            "Cтарт перезапуска №1\n",
            "Лучшая пока что: 0.0\n",
            "==================================================\n",
            "Рестарт: 1\tПоколение: 0\tЗначение: 1.3\n",
            "Рестарт: 1\tПоколение: 2\tЗначение: 1.5\n",
            "Рестарт: 1\tПоколение: 8\tЗначение: 1.6\n",
            "Рестарт: 1\tПоколение: 9\tЗначение: 2.2\n",
            "Рестарт: 1\tПоколение: 10\tЗначение: 3.9\n",
            "Рестарт: 1\tПоколение: 11\tЗначение: 4.2\n",
            "Рестарт: 1\tПоколение: 12\tЗначение: 4.3\n",
            "Рестарт: 1\tПоколение: 17\tЗначение: 5.3\n",
            "Рестарт: 1\tПоколение: 42\tЗначение: 5.4\n",
            "Рестарт: 1\tПоколение: 46\tЗначение: 5.5\n",
            "==================================================\n",
            "Cтарт перезапуска №2\n",
            "Лучшая пока что: 5.5\n",
            "==================================================\n"
          ]
        }
      ]
    },
    {
      "cell_type": "markdown",
      "source": [
        "### Сохранение лучшего агента"
      ],
      "metadata": {
        "id": "fW1bKFwQ22HA"
      }
    },
    {
      "cell_type": "code",
      "source": [
        "with open('pingpong_weights.js', 'w') as f:\n",
        "    f.write('var W = %s;\\n'%\n",
        "            (json.dumps([[int(1e3*w)/1e3 for w in W] for W in best_thingey])))"
      ],
      "metadata": {
        "id": "RmdYQpdL22HA"
      },
      "execution_count": null,
      "outputs": []
    },
    {
      "cell_type": "markdown",
      "source": [
        "А теперь запустите этот файл в index_with_bot.html и проверьте живучесть вашего интеллектуального агента. Возможны модификации следующего рода:\n",
        "* изменение \"мозгов\" агента (требует правки в JavaScript коде)\n",
        "* изменение/добавление/удаление входных признаков агента (требует правки в JavaScript коде)\n",
        "* изменение действий агента (требует правки в JavaScript коде)\n",
        "* изменение функции приспособленности\n",
        "\n",
        "*ПОДСКАЗКА: критичным является использование правильного функционала качества особи и использование правильных пропорций ELITE_SIZE, RANDOM_SIZE, POPULATION_SIZE*\n",
        "\n",
        "*ПОДСКАЗКА 2: хорошая модель набирает >100 очков*\n",
        "\n",
        "*ПОДСКАЗКА 3: посмотрите на различия с get_action из игры DoodleJump*\n"
      ],
      "metadata": {
        "id": "lrw7gfyU22HA"
      }
    },
    {
      "cell_type": "markdown",
      "source": [
        "## DoodleJump"
      ],
      "metadata": {
        "id": "sgwg8bPNE5wF"
      }
    },
    {
      "cell_type": "markdown",
      "source": [
        "### Загрузка нужных библиотек"
      ],
      "metadata": {
        "id": "QAPlukK3E5wK"
      }
    },
    {
      "cell_type": "code",
      "source": [
        "import json\n",
        "import random\n",
        "import numpy as np"
      ],
      "metadata": {
        "id": "xu-d7ei5E5wK"
      },
      "execution_count": null,
      "outputs": []
    },
    {
      "cell_type": "markdown",
      "source": [
        "### Объявление глобальных переменных"
      ],
      "metadata": {
        "id": "fIZZe_DjE5wK"
      }
    },
    {
      "cell_type": "code",
      "source": [
        "def init_states():\n",
        "    settings = dict(\n",
        "        width = 375,\n",
        "        height = 667,\n",
        "        platformWidth = 65,\n",
        "        platformHeight = 20,\n",
        "\n",
        "        gravity = 0.33,\n",
        "        drag = 0.3,\n",
        "        bounceVelocity = -12.5,\n",
        "\n",
        "        minPlatformSpace = 15,\n",
        "        maxPlatformSpace = 20,\n",
        "        keydown = False,\n",
        "        score = 0,\n",
        "    )\n",
        "    settings['platformStart'] = settings['height'] - 50\n",
        "\n",
        "    platforms = [dict(x=settings['width'] / 2 - settings['platformWidth'] / 2,\n",
        "                      y=settings['platformStart'])]\n",
        "    y = settings['platformStart']\n",
        "    while (y > 0):\n",
        "        y -= settings['platformHeight'] + \\\n",
        "             np.random.randint(settings['minPlatformSpace'],\n",
        "                               settings['maxPlatformSpace'])\n",
        "\n",
        "        while True:\n",
        "            x = np.random.uniform(25, settings['width'] \\\n",
        "                                  - 25 - settings['platformWidth'])\n",
        "            if not ((y > settings['height'] / 2) and\n",
        "                    (x > settings['width'] / 2\n",
        "                     - settings['platformWidth'] * 1.5) and\n",
        "                    (x < settings['width'] / 2\n",
        "                     + settings['platformWidth'] / 2)):\n",
        "                break\n",
        "        platforms.append(dict(x=x, y=y))\n",
        "\n",
        "    doodle = dict(\n",
        "      width=40,\n",
        "      height=60,\n",
        "      x=settings['width'] / 2 - 20,\n",
        "      y=settings['platformStart'] - 60,\n",
        "      dx=0,\n",
        "      dy=0,\n",
        "      playerDir=0,\n",
        "      prevDoodleY=settings['platformStart'] - 60,\n",
        "    )\n",
        "\n",
        "    return doodle, platforms, settings\n",
        "\n",
        "doodle, platforms, settings = init_states()"
      ],
      "metadata": {
        "id": "zmagT3gQE5wK"
      },
      "execution_count": null,
      "outputs": []
    },
    {
      "cell_type": "markdown",
      "source": [
        "### Логика игры"
      ],
      "metadata": {
        "id": "0Tj1yehUE5wK"
      }
    },
    {
      "cell_type": "code",
      "source": [
        "def restart():\n",
        "    doodle, platforms, settings = init_states()\n",
        "    return doodle, platforms, settings\n",
        "\n",
        "\n",
        "def loop(doodle, platforms, settings):\n",
        "    doodle['dy'] += settings['gravity']\n",
        "\n",
        "    if (doodle['y'] < settings['height'] / 2 and doodle['dy'] < 0):\n",
        "        for i, _ in enumerate(platforms):\n",
        "            platforms[i]['y'] -= doodle['dy']\n",
        "\n",
        "        while (platforms[-1]['y'] > 0):\n",
        "            platforms.append(dict(\n",
        "                x=np.random.uniform(25,\n",
        "                                    settings['width'] - 25\n",
        "                                    - settings['platformWidth']),\n",
        "                y=np.random.uniform(platforms[-1]['y'] -\n",
        "                                    (settings['platformHeight'] +\n",
        "                                     np.random.uniform(\n",
        "                                         settings['minPlatformSpace'],\n",
        "                                         settings['maxPlatformSpace']))\n",
        "                                    )\n",
        "                                )\n",
        "                            )\n",
        "\n",
        "            settings['minPlatformSpace'] = min(settings['minPlatformSpace']\n",
        "                                               + 0.5,\n",
        "                                               settings['height'] / 2 - 0.5)\n",
        "            settings['maxPlatformSpace'] = min(settings['maxPlatformSpace']\n",
        "                                               + 0.5,\n",
        "                                               settings['height'] / 2)\n",
        "    else:\n",
        "        doodle['y'] += doodle['dy']\n",
        "\n",
        "    if not settings['keydown']:\n",
        "        if (doodle['playerDir'] < 0):\n",
        "            doodle['dx'] += settings['drag'];\n",
        "            if (doodle['dx'] > 0):\n",
        "                doodle['dx'] = 0\n",
        "                doodle['playerDir'] = 0\n",
        "        elif (doodle['playerDir'] > 0):\n",
        "            doodle['dx'] -= settings['drag']\n",
        "\n",
        "            if (doodle['dx'] < 0):\n",
        "                doodle['dx'] = 0\n",
        "                doodle['playerDir'] = 0\n",
        "\n",
        "    doodle['x'] += doodle['dx']\n",
        "\n",
        "    if (doodle['x'] + doodle['width'] < 0):\n",
        "        doodle['x'] = settings['width']\n",
        "    elif (doodle['x'] > settings['width']):\n",
        "        doodle['x'] = -doodle['width']\n",
        "\n",
        "    for platform in platforms:\n",
        "        if (\n",
        "          (doodle['dy'] > 0) and\n",
        "          (doodle['prevDoodleY'] + doodle['height'] <= platform['y']) and\n",
        "          (doodle['x'] < platform['x'] + settings['platformWidth']) and\n",
        "          (doodle['x'] + doodle['width'] > platform['x']) and\n",
        "          (doodle['y'] < platform['y'] + settings['platformHeight']) and\n",
        "          (doodle['y'] + doodle['height'] > platform['y'])\n",
        "        ):\n",
        "            doodle['y'] = platform['y'] - doodle['height']\n",
        "            doodle['dy'] = settings['bounceVelocity']\n",
        "\n",
        "    doodle['prevDoodleY'] = doodle['y']\n",
        "    platforms_cleared = len(platforms)\n",
        "    platforms = list(filter(lambda platform: platform['y'] < settings['height'],\n",
        "                            platforms))\n",
        "    platforms_cleared -= len(platforms)\n",
        "    settings['score'] += platforms_cleared\n",
        "\n",
        "    if doodle['y'] > settings['height'] + doodle['height']:\n",
        "        return -1\n",
        "    return 0"
      ],
      "metadata": {
        "id": "3zuImZwxE5wK"
      },
      "execution_count": null,
      "outputs": []
    },
    {
      "cell_type": "markdown",
      "source": [
        "### Действия агента"
      ],
      "metadata": {
        "id": "vnxK1Wr2E5wK"
      }
    },
    {
      "cell_type": "code",
      "source": [
        "actionMap = {0: 37, # движение влево\n",
        "             1: 39, # движение вправо\n",
        "             2: -1} # ожидание\n",
        "\n",
        "def apply_action(doodle, platforms, settings, actionId):\n",
        "    key = actionMap[actionId]\n",
        "\n",
        "    if key == 37:\n",
        "        settings['keydown'] = True\n",
        "        settings['playerDir'] = -1\n",
        "        doodle['dx'] = -3\n",
        "    elif key == 39:\n",
        "        settings['keydown'] = True\n",
        "        settings['playerDir'] = 1\n",
        "        doodle['dx'] = 3\n",
        "    else:\n",
        "        settings['keydown'] = False"
      ],
      "metadata": {
        "id": "_oE1mX6oE5wK"
      },
      "execution_count": null,
      "outputs": []
    },
    {
      "cell_type": "markdown",
      "source": [
        "### Признаки для интеллектуального агента"
      ],
      "metadata": {
        "id": "P_RT9LbQE5wL"
      }
    },
    {
      "cell_type": "code",
      "source": [
        "# агент видел значения в этих пикселях\n",
        "sensor_web = np.meshgrid(np.arange(-settings['width']*2//3,\n",
        "                                   +settings['width']*2//3, 50),\n",
        "                         np.arange(-settings['height']*2//3,\n",
        "                                   +settings['height']*2//3, 75))\n",
        "sensor_web = np.concatenate([sensor_web[0].flatten()[:, None],\n",
        "                             sensor_web[1].flatten()[:, None]], axis=1)"
      ],
      "metadata": {
        "id": "hp5RF_QuF7kG"
      },
      "execution_count": null,
      "outputs": []
    },
    {
      "cell_type": "code",
      "source": [
        "def get_features(doodle, platforms, settings):\n",
        "    points = np.array([(p['x'], p['y']) for p in platforms])\n",
        "\n",
        "    sensor_x = (sensor_web[:, 0]*1 + doodle['x']) % settings['width']\n",
        "    sensor_y = np.clip((sensor_web[:, 1]*1 + doodle['y']),\n",
        "                       1, settings['height']-1)\n",
        "\n",
        "    xx = sensor_x.reshape(-1, 1) - points[:, 0]\n",
        "    yy = sensor_y.reshape(-1, 1) - points[:, 1]\n",
        "    cond1 = (xx - settings['platformWidth']) < 0\n",
        "    cond2 = (xx) > 0\n",
        "    cond3 = (yy - settings['platformHeight']) < 0\n",
        "    cond4 = (yy) > 0\n",
        "\n",
        "    sensors = ((cond1*cond2*cond3*cond4).any(axis=1))*1.\n",
        "    return np.concatenate([sensors, [doodle['dx'],\n",
        "                                     doodle['dy'],\n",
        "                                     1]])\n",
        "\n",
        "%timeit get_features(doodle, platforms, settings)"
      ],
      "metadata": {
        "colab": {
          "base_uri": "https://localhost:8080/"
        },
        "outputId": "ce6101fd-1868-4c45-f71a-ab2418f2dbd6",
        "id": "RrufPZO6E5wL"
      },
      "execution_count": null,
      "outputs": [
        {
          "output_type": "stream",
          "name": "stdout",
          "text": [
            "116 µs ± 30.2 µs per loop (mean ± std. dev. of 7 runs, 10000 loops each)\n"
          ]
        }
      ]
    },
    {
      "cell_type": "markdown",
      "source": [
        "### \"Мозги\" интеллектуального агента"
      ],
      "metadata": {
        "id": "QNBIFILgE5wL"
      }
    },
    {
      "cell_type": "code",
      "source": [
        "# Многослойный персептрон из ЛР3 передаёт привет:)\n",
        "def get_one(h1=5, n_classes=3):\n",
        "    W = np.random.normal(size=(sensor_web.shape[0]+3, h1))\n",
        "    W2 = np.random.normal(size=(h1, n_classes))\n",
        "    return W, W2\n",
        "\n",
        "def softmax(x):\n",
        "    xe = np.exp(x-x.max())\n",
        "    return xe/xe.sum()\n",
        "\n",
        "def getAction(doodle, platforms, settings, weights):\n",
        "    W, W2 = weights\n",
        "    logits = np.maximum(W.T.dot(get_features(doodle, platforms, settings)),\n",
        "                        0).dot(W2)\n",
        "    # действия выбираются не детерминированно, а вероятностно\n",
        "    return np.random.choice(np.arange(logits.size), p=softmax(logits))\n",
        "\n",
        "getAction(doodle, platforms, settings, get_one())"
      ],
      "metadata": {
        "colab": {
          "base_uri": "https://localhost:8080/"
        },
        "outputId": "d729a7cc-9804-4ccf-fc7a-815fd40c25ba",
        "id": "h32j4RVLE5wL"
      },
      "execution_count": null,
      "outputs": [
        {
          "output_type": "execute_result",
          "data": {
            "text/plain": [
              "1"
            ]
          },
          "metadata": {},
          "execution_count": 86
        }
      ]
    },
    {
      "cell_type": "markdown",
      "source": [
        "### Функция приспособленности"
      ],
      "metadata": {
        "id": "Zeks-WCBE5wL"
      }
    },
    {
      "cell_type": "code",
      "source": [
        "def get_score(W, patience=100, return_actions=False):\n",
        "    doodle, platforms, settings = restart()\n",
        "    maxScore_patience = patience\n",
        "    maxScore_prev = settings['minPlatformSpace']\n",
        "    actions = []\n",
        "    xcoords = []\n",
        "    action = getAction(doodle, platforms, settings, W)\n",
        "    for _ in range(int(5e4)):\n",
        "        if loop(doodle, platforms, settings) == -1:\n",
        "            break\n",
        "        # симуляция запоздалой реакции агента\n",
        "        if np.random.random() < 0.25:\n",
        "            action = getAction(doodle, platforms, settings, W)\n",
        "        actions.append(action)\n",
        "        xcoords.append(doodle['x'])\n",
        "        apply_action(doodle, platforms, settings, action)\n",
        "        if  settings['minPlatformSpace'] > maxScore_prev:\n",
        "            maxScore_prev = settings['minPlatformSpace']\n",
        "            maxScore_patience = patience\n",
        "        maxScore_patience -= 1\n",
        "        if maxScore_patience < 0:\n",
        "            break\n",
        "    if return_actions:\n",
        "        return actions, xcoords, settings['minPlatformSpace']\n",
        "    return settings['minPlatformSpace']"
      ],
      "metadata": {
        "id": "etfWYnhIE5wL"
      },
      "execution_count": null,
      "outputs": []
    },
    {
      "cell_type": "markdown",
      "source": [
        "### Этапы генетического алгоритма"
      ],
      "metadata": {
        "id": "uPAT4MRFE5wM"
      }
    },
    {
      "cell_type": "code",
      "source": [
        "def mutate(weights, mutation_rate=0.01):\n",
        "    W, W2 = weights\n",
        "    dW, dW2 = get_one()\n",
        "    dM, dM2 = get_one()\n",
        "    return W + dW*(dM>0)*mutation_rate, W2 + dW2*(dM2>0)*mutation_rate\n",
        "\n",
        "\n",
        "def crossover(W1, W2):\n",
        "    result = []\n",
        "    for w1, w2 in zip(W1, W2):\n",
        "        maskW = np.random.random(w1.shape)<0.5\n",
        "        result.append(w1*maskW+w2*(~maskW))\n",
        "    return result"
      ],
      "metadata": {
        "id": "wu05BNHTE5wM"
      },
      "execution_count": null,
      "outputs": []
    },
    {
      "cell_type": "markdown",
      "source": [
        "### Этапы генетического алгоритма II"
      ],
      "metadata": {
        "id": "p4HRhk1dE5wM"
      }
    },
    {
      "cell_type": "code",
      "source": [
        "def generate_random(population, size):\n",
        "    new_population = []\n",
        "    for _ in range(size):\n",
        "        if np.random.random()<0.5:\n",
        "            new_population.append(get_one())\n",
        "        else:\n",
        "            new_population.append(mutate(population[0]))\n",
        "    return new_population\n",
        "\n",
        "\n",
        "def selection(population, scores, topK=2):\n",
        "    scores = np.array(scores)*1.\n",
        "    scores /= scores.sum()\n",
        "    elitismTopK = np.argsort(scores)[::-1][:topK//2]\n",
        "    roulleteTopK = np.random.choice(len(scores),\n",
        "                                    p=scores,\n",
        "                                    size=topK//2)\n",
        "\n",
        "    new_population = [tuple(map(lambda x: x.copy(), population[i]))\n",
        "                      for i in elitismTopK]+\\\n",
        "                     [tuple(map(lambda x: x.copy(), population[i]))\n",
        "                      for i in roulleteTopK]\n",
        "\n",
        "    return new_population\n",
        "\n",
        "\n",
        "def breed(population, scores, nChilds=10):\n",
        "    scores = np.array(scores)*1.\n",
        "    scores /= scores.sum()\n",
        "    parents = np.random.choice(len(scores),\n",
        "                               p=scores,\n",
        "                               size=(nChilds, 2))\n",
        "\n",
        "    new_population = []\n",
        "    for parentA, parentB in parents:\n",
        "        new_population.append(mutate(crossover(population[parentA],\n",
        "                                               population[parentB])))\n",
        "\n",
        "    return new_population\n",
        "\n",
        "# зачем?\n",
        "def factorize(population, factor=3):\n",
        "    for i, p in enumerate(population):\n",
        "        population[i] = tuple([np.array([[int(10**factor*w)/10**factor\n",
        "                                          for w in W]\n",
        "                                         for W in pp])\n",
        "                               for pp in p])\n",
        "    return population\n",
        "\n",
        "\n",
        "def get_new_population(population, scores, topK=4, randomNum=10):\n",
        "    return factorize(\n",
        "    selection(population, scores, topK) + \\\n",
        "    breed(population, scores,\n",
        "          nChilds=max(0, len(population) - randomNum - topK)) + \\\n",
        "    generate_random(population, randomNum)\n",
        "    )"
      ],
      "metadata": {
        "id": "trH-Ng86E5wM"
      },
      "execution_count": null,
      "outputs": []
    },
    {
      "cell_type": "markdown",
      "source": [
        "### Этапы генетического алгоритма III"
      ],
      "metadata": {
        "id": "wFkEtj1ME5wM"
      }
    },
    {
      "cell_type": "code",
      "source": [
        "def get_scores(population, patience=100):\n",
        "    scores = []\n",
        "    for W in population:\n",
        "        scores.append(get_score(W, patience))\n",
        "    return scores"
      ],
      "metadata": {
        "id": "-WBWj2AjE5wM"
      },
      "execution_count": null,
      "outputs": []
    },
    {
      "cell_type": "code",
      "source": [
        "# сохранение чекпоинта \"мозгов\" интеллектуального агента\n",
        "def save_thingey(best_thingey, score):\n",
        "    with open('doodlejump_weights_%.1f.js'%score, 'w') as f:\n",
        "        f.write('var sensorWeb = %s;\\n\\nvar W = %s;\\n\\nvar W2 = %s;\\n'%\n",
        "                (json.dumps([[int(w) for w in W] for W in sensor_web]),\n",
        "                 json.dumps([[int(1e2*w)/1e2 for w in W]\n",
        "                             for W in best_thingey[0]]),\n",
        "                 json.dumps([[int(1e2*w)/1e2 for w in W]\n",
        "                             for W in best_thingey[1]])))"
      ],
      "metadata": {
        "id": "H9Hnc08_Hhpq"
      },
      "execution_count": null,
      "outputs": []
    },
    {
      "cell_type": "markdown",
      "source": [
        "### Обучение интеллектуального агента"
      ],
      "metadata": {
        "id": "3qtCEpPBE5wM"
      }
    },
    {
      "cell_type": "code",
      "source": [
        "POPULATION_SIZE = 64\n",
        "RANDOM_SIZE = 20\n",
        "ELITE_SIZE = 4\n",
        "NUM_GENERATIONS = 100\n",
        "NUM_REPEATS = 3 # зачем?\n",
        "NUM_RESTARTS = 5\n",
        "PATIENCE = lambda x: 100*((x+2)//2)\n",
        "population = [get_one() for _ in range(POPULATION_SIZE)]\n",
        "\n",
        "best_thingey = None\n",
        "best_score = 0\n",
        "\n",
        "for n_restart in range(NUM_RESTARTS):\n",
        "    print('='*50)\n",
        "    print('Cтарт перезапуска №%d'%(n_restart+1))\n",
        "    print('Лучшая пока что: %.1f'%best_score)\n",
        "    print('='*50)\n",
        "    population = [get_one() for _ in range(POPULATION_SIZE)]\n",
        "    for generation in range(NUM_GENERATIONS):\n",
        "        scores = 0.\n",
        "        for _ in range(NUM_REPEATS):\n",
        "            scores += np.array(get_scores(population, PATIENCE(generation)))**4\n",
        "        scores /= NUM_REPEATS\n",
        "\n",
        "        population = get_new_population(population, scores,\n",
        "                                        topK=ELITE_SIZE,\n",
        "                                        randomNum=RANDOM_SIZE)\n",
        "        bscore = max(scores)**0.25\n",
        "        if bscore > best_score:\n",
        "            best_score = bscore\n",
        "            best_thingey = [x.copy() for x in population[0]]\n",
        "            print('Рестарт: %d\\tПоколение: %d\\tЗначение: %.1f'%(n_restart+1,\n",
        "                                                                generation,\n",
        "                                                                bscore))\n",
        "            if bscore > 100:\n",
        "                save_thingey(best_thingey, best_score)\n",
        "save_thingey(best_thingey, best_score)"
      ],
      "metadata": {
        "colab": {
          "base_uri": "https://localhost:8080/"
        },
        "id": "CHZ1kG_wHxfJ",
        "outputId": "bf2821a0-7763-47b3-aafc-4d4baf72aa36"
      },
      "execution_count": null,
      "outputs": [
        {
          "output_type": "stream",
          "name": "stdout",
          "text": [
            "==================================================\n",
            "Cтарт перезапуска №1\n",
            "Лучшая пока что: 0.0\n",
            "==================================================\n",
            "Рестарт: 1\tПоколение: 0\tЗначение: 47.6\n",
            "Рестарт: 1\tПоколение: 2\tЗначение: 79.1\n",
            "Рестарт: 1\tПоколение: 3\tЗначение: 80.5\n",
            "Рестарт: 1\tПоколение: 5\tЗначение: 82.9\n",
            "Рестарт: 1\tПоколение: 6\tЗначение: 89.7\n",
            "Рестарт: 1\tПоколение: 9\tЗначение: 91.6\n",
            "Рестарт: 1\tПоколение: 11\tЗначение: 92.7\n",
            "Рестарт: 1\tПоколение: 12\tЗначение: 94.9\n",
            "Рестарт: 1\tПоколение: 20\tЗначение: 99.1\n",
            "Рестарт: 1\tПоколение: 29\tЗначение: 104.5\n",
            "==================================================\n",
            "Cтарт перезапуска №2\n",
            "Лучшая пока что: 104.5\n",
            "==================================================\n",
            "==================================================\n",
            "Cтарт перезапуска №3\n",
            "Лучшая пока что: 104.5\n",
            "==================================================\n",
            "Рестарт: 3\tПоколение: 44\tЗначение: 106.7\n",
            "Рестарт: 3\tПоколение: 60\tЗначение: 108.9\n",
            "==================================================\n",
            "Cтарт перезапуска №4\n",
            "Лучшая пока что: 108.9\n",
            "==================================================\n",
            "==================================================\n",
            "Cтарт перезапуска №5\n",
            "Лучшая пока что: 108.9\n",
            "==================================================\n",
            "Рестарт: 5\tПоколение: 14\tЗначение: 110.9\n",
            "Рестарт: 5\tПоколение: 37\tЗначение: 112.6\n",
            "Рестарт: 5\tПоколение: 38\tЗначение: 115.7\n",
            "Рестарт: 5\tПоколение: 56\tЗначение: 118.6\n"
          ]
        }
      ]
    },
    {
      "cell_type": "markdown",
      "source": [
        "А теперь запустите этот файл в index_with_bot.html и проверьте живучесть вашего интеллектуального агента. Возможны модификации следующего рода:\n",
        "* изменение \"мозгов\" агента\n",
        "* изменение/добавление/удаление входных признаков агента (если добавляются новые домены признаков, то требует правки в JavaScript коде, изменение разрешения агента ок)\n",
        "* изменение действий агента (требует правки в JavaScript коде)\n",
        "* изменение функции приспособленности\n",
        "\n",
        "*ПОДСКАЗКА: хорошая модель набирает >135 очков*"
      ],
      "metadata": {
        "id": "sP98oJOUE5wN"
      }
    }
  ],
  "metadata": {
    "colab": {
      "collapsed_sections": [
        "VrOocc6D_O7M"
      ],
      "provenance": [],
      "include_colab_link": true
    },
    "kernelspec": {
      "display_name": "Python 3",
      "name": "python3"
    },
    "language_info": {
      "name": "python"
    }
  },
  "nbformat": 4,
  "nbformat_minor": 0
}